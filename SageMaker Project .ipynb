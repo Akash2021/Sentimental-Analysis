{
 "cells": [
  {
   "cell_type": "markdown",
   "metadata": {},
   "source": [
    "## Step 1: Downloading the data\n",
    "\n",
    "As in the XGBoost in SageMaker notebook, we will be using the [IMDb dataset](http://ai.stanford.edu/~amaas/data/sentiment/)\n",
    "\n",
    "> Maas, Andrew L., et al. [Learning Word Vectors for Sentiment Analysis](http://ai.stanford.edu/~amaas/data/sentiment/). In _Proceedings of the 49th Annual Meeting of the Association for Computational Linguistics: Human Language Technologies_. Association for Computational Linguistics, 2011."
   ]
  },
  {
   "cell_type": "code",
   "execution_count": 1,
   "metadata": {
    "scrolled": true
   },
   "outputs": [
    {
     "name": "stdout",
     "output_type": "stream",
     "text": [
      "mkdir: cannot create directory ‘../data’: File exists\n",
      "--2019-06-11 11:55:06--  http://ai.stanford.edu/~amaas/data/sentiment/aclImdb_v1.tar.gz\n",
      "Resolving ai.stanford.edu (ai.stanford.edu)... 171.64.68.10\n",
      "Connecting to ai.stanford.edu (ai.stanford.edu)|171.64.68.10|:80... connected.\n",
      "HTTP request sent, awaiting response... 200 OK\n",
      "Length: 84125825 (80M) [application/x-gzip]\n",
      "Saving to: ‘../data/aclImdb_v1.tar.gz’\n",
      "\n",
      "../data/aclImdb_v1. 100%[===================>]  80.23M  5.80MB/s    in 16s     \n",
      "\n",
      "2019-06-11 11:55:23 (5.04 MB/s) - ‘../data/aclImdb_v1.tar.gz’ saved [84125825/84125825]\n",
      "\n"
     ]
    }
   ],
   "source": [
    "%mkdir ../data\n",
    "!wget -O ../data/aclImdb_v1.tar.gz http://ai.stanford.edu/~amaas/data/sentiment/aclImdb_v1.tar.gz\n",
    "!tar -zxf ../data/aclImdb_v1.tar.gz -C ../data"
   ]
  },
  {
   "cell_type": "markdown",
   "metadata": {},
   "source": [
    "## Step 2: Preparing and Processing the data\n",
    "\n",
    "Also, as in the XGBoost notebook, we will be doing some initial data processing. The first few steps are the same as in the XGBoost example. To begin with, we will read in each of the reviews and combine them into a single input structure. Then, we will split the dataset into a training set and a testing set."
   ]
  },
  {
   "cell_type": "code",
   "execution_count": 2,
   "metadata": {},
   "outputs": [],
   "source": [
    "import os\n",
    "import glob\n",
    "\n",
    "def read_imdb_data(data_dir='../data/aclImdb'):\n",
    "    data = {}\n",
    "    labels = {}\n",
    "    \n",
    "    for data_type in ['train', 'test']:\n",
    "        data[data_type] = {}\n",
    "        labels[data_type] = {}\n",
    "        \n",
    "        for sentiment in ['pos', 'neg']:\n",
    "            data[data_type][sentiment] = []\n",
    "            labels[data_type][sentiment] = []\n",
    "            \n",
    "            path = os.path.join(data_dir, data_type, sentiment, '*.txt')\n",
    "            files = glob.glob(path)\n",
    "            \n",
    "            for f in files:\n",
    "                with open(f) as review:\n",
    "                    data[data_type][sentiment].append(review.read())\n",
    "                    # Here we represent a positive review by '1' and a negative review by '0'\n",
    "                    labels[data_type][sentiment].append(1 if sentiment == 'pos' else 0)\n",
    "                    \n",
    "            assert len(data[data_type][sentiment]) == len(labels[data_type][sentiment]), \\\n",
    "                    \"{}/{} data size does not match labels size\".format(data_type, sentiment)\n",
    "                \n",
    "    return data, labels"
   ]
  },
  {
   "cell_type": "code",
   "execution_count": 3,
   "metadata": {},
   "outputs": [
    {
     "name": "stdout",
     "output_type": "stream",
     "text": [
      "IMDB reviews: train = 12500 pos / 12500 neg, test = 12500 pos / 12500 neg\n"
     ]
    }
   ],
   "source": [
    "data, labels = read_imdb_data()\n",
    "print(\"IMDB reviews: train = {} pos / {} neg, test = {} pos / {} neg\".format(\n",
    "            len(data['train']['pos']), len(data['train']['neg']),\n",
    "            len(data['test']['pos']), len(data['test']['neg'])))"
   ]
  },
  {
   "cell_type": "code",
   "execution_count": 4,
   "metadata": {},
   "outputs": [],
   "source": [
    "from sklearn.utils import shuffle\n",
    "\n",
    "def prepare_imdb_data(data, labels):\n",
    "    \"\"\"Prepare training and test sets from IMDb movie reviews.\"\"\"\n",
    "    \n",
    "    #Combine positive and negative reviews and labels\n",
    "    data_train = data['train']['pos'] + data['train']['neg']\n",
    "    data_test = data['test']['pos'] + data['test']['neg']\n",
    "    labels_train = labels['train']['pos'] + labels['train']['neg']\n",
    "    labels_test = labels['test']['pos'] + labels['test']['neg']\n",
    "    \n",
    "    #Shuffle reviews and corresponding labels within training and test sets\n",
    "    data_train, labels_train = shuffle(data_train, labels_train)\n",
    "    data_test, labels_test = shuffle(data_test, labels_test)\n",
    "    \n",
    "    # Return a unified training data, test data, training labels, test labets\n",
    "    return data_train, data_test, labels_train, labels_test"
   ]
  },
  {
   "cell_type": "code",
   "execution_count": 5,
   "metadata": {},
   "outputs": [
    {
     "name": "stdout",
     "output_type": "stream",
     "text": [
      "IMDb reviews (combined): train = 25000, test = 25000\n"
     ]
    }
   ],
   "source": [
    "train_X, test_X, train_y, test_y = prepare_imdb_data(data, labels)\n",
    "print(\"IMDb reviews (combined): train = {}, test = {}\".format(len(train_X), len(test_X)))"
   ]
  },
  {
   "cell_type": "markdown",
   "metadata": {},
   "source": [
    "Now that we have our training and testing sets unified and prepared, we should do a quick check and see an example of the data our model will be trained on. This is generally a good idea as it allows you to see how each of the further processing steps affects the reviews and it also ensures that the data has been loaded correctly."
   ]
  },
  {
   "cell_type": "code",
   "execution_count": 6,
   "metadata": {},
   "outputs": [
    {
     "name": "stdout",
     "output_type": "stream",
     "text": [
      "Mimicking its long title the movie finds ways to come close to the 90' mark. The beautiful sets are here with all that made the Hamer production values a trademark, yet Paris drowned in the fog is a sign of indolent neglect. The story is obvious and can be summed up in a dozen words so there comes nothing unexpected and nothing worth more than 5% of your attention to be expected.<br /><br />The directing is heavy as a direct transfer from the stage play, actors are mostly stiff as wax figures (ok this is a Hamer feature, only it's sometimes better featured in the whole package). My conclusion: this movie is trash, not worth the time I spend that evening. Eternal life is a boring matter and I should have hoped the guys in charge of programming at the Cinemathèque would have known better.\n",
      "0\n"
     ]
    }
   ],
   "source": [
    "print(train_X[100])\n",
    "print(train_y[100])"
   ]
  },
  {
   "cell_type": "markdown",
   "metadata": {},
   "source": [
    "The first step in processing the reviews is to make sure that any html tags that appear should be removed. In addition we wish to tokenize our input, that way words such as *entertained* and *entertaining* are considered the same with regard to sentiment analysis."
   ]
  },
  {
   "cell_type": "code",
   "execution_count": 7,
   "metadata": {},
   "outputs": [],
   "source": [
    "import nltk\n",
    "from nltk.corpus import stopwords\n",
    "from nltk.stem.porter import *\n",
    "\n",
    "import re\n",
    "from bs4 import BeautifulSoup\n",
    "\n",
    "def review_to_words(review):\n",
    "    nltk.download(\"stopwords\", quiet=True)\n",
    "    stemmer = PorterStemmer()\n",
    "    \n",
    "    text = BeautifulSoup(review, \"html.parser\").get_text() # Remove HTML tags\n",
    "    text = re.sub(r\"[^a-zA-Z0-9]\", \" \", text.lower()) # Convert to lower case\n",
    "    words = text.split() # Split string into words\n",
    "    words = [w for w in words if w not in stopwords.words(\"english\")] # Remove stopwords\n",
    "    words = [PorterStemmer().stem(w) for w in words] # stem\n",
    "    \n",
    "    return words"
   ]
  },
  {
   "cell_type": "markdown",
   "metadata": {},
   "source": [
    "The `review_to_words` method defined above uses `BeautifulSoup` to remove any html tags that appear and uses the `nltk` package to tokenize the reviews. As a check to ensure we know how everything is working, try applying `review_to_words` to one of the reviews in the training set."
   ]
  },
  {
   "cell_type": "code",
   "execution_count": 8,
   "metadata": {},
   "outputs": [
    {
     "name": "stdout",
     "output_type": "stream",
     "text": [
      "['mimick', 'long', 'titl', 'movi', 'find', 'way', 'come', 'close', '90', 'mark', 'beauti', 'set', 'made', 'hamer', 'product', 'valu', 'trademark', 'yet', 'pari', 'drown', 'fog', 'sign', 'indol', 'neglect', 'stori', 'obviou', 'sum', 'dozen', 'word', 'come', 'noth', 'unexpect', 'noth', 'worth', '5', 'attent', 'expect', 'direct', 'heavi', 'direct', 'transfer', 'stage', 'play', 'actor', 'mostli', 'stiff', 'wax', 'figur', 'ok', 'hamer', 'featur', 'sometim', 'better', 'featur', 'whole', 'packag', 'conclus', 'movi', 'trash', 'worth', 'time', 'spend', 'even', 'etern', 'life', 'bore', 'matter', 'hope', 'guy', 'charg', 'program', 'cinemath', 'que', 'would', 'known', 'better']\n"
     ]
    }
   ],
   "source": [
    "# TODO: Apply review_to_words to a review (train_X[100] or any other review)\n",
    "words=review_to_words(train_X[100])\n",
    "print(words)"
   ]
  },
  {
   "cell_type": "markdown",
   "metadata": {},
   "source": [
    "The method below applies the `review_to_words` method to each of the reviews in the training and testing datasets. In addition it caches the results. This is because performing this processing step can take a long time. This way if you are unable to complete the notebook in the current session, you can come back without needing to process the data a second time."
   ]
  },
  {
   "cell_type": "code",
   "execution_count": 9,
   "metadata": {},
   "outputs": [],
   "source": [
    "import pickle\n",
    "\n",
    "cache_dir = os.path.join(\"../cache\", \"sentiment_analysis\")  # where to store cache files\n",
    "os.makedirs(cache_dir, exist_ok=True)  # ensure cache directory exists\n",
    "\n",
    "def preprocess_data(data_train, data_test, labels_train, labels_test,\n",
    "                    cache_dir=cache_dir, cache_file=\"preprocessed_data.pkl\"):\n",
    "    \"\"\"Convert each review to words; read from cache if available.\"\"\"\n",
    "\n",
    "    # If cache_file is not None, try to read from it first\n",
    "    cache_data = None\n",
    "    if cache_file is not None:\n",
    "        try:\n",
    "            with open(os.path.join(cache_dir, cache_file), \"rb\") as f:\n",
    "                cache_data = pickle.load(f)\n",
    "            print(\"Read preprocessed data from cache file:\", cache_file)\n",
    "        except:\n",
    "            pass  # unable to read from cache, but that's okay\n",
    "    \n",
    "    # If cache is missing, then do the heavy lifting\n",
    "    if cache_data is None:\n",
    "        # Preprocess training and test data to obtain words for each review\n",
    "        #words_train = list(map(review_to_words, data_train))\n",
    "        #words_test = list(map(review_to_words, data_test))\n",
    "        words_train = [review_to_words(review) for review in data_train]\n",
    "        words_test = [review_to_words(review) for review in data_test]\n",
    "        \n",
    "        # Write to cache file for future runs\n",
    "        if cache_file is not None:\n",
    "            cache_data = dict(words_train=words_train, words_test=words_test,\n",
    "                              labels_train=labels_train, labels_test=labels_test)\n",
    "            with open(os.path.join(cache_dir, cache_file), \"wb\") as f:\n",
    "                pickle.dump(cache_data, f)\n",
    "            print(\"Wrote preprocessed data to cache file:\", cache_file)\n",
    "    else:\n",
    "        # Unpack data loaded from cache file\n",
    "        words_train, words_test, labels_train, labels_test = (cache_data['words_train'],\n",
    "                cache_data['words_test'], cache_data['labels_train'], cache_data['labels_test'])\n",
    "    \n",
    "    return words_train, words_test, labels_train, labels_test"
   ]
  },
  {
   "cell_type": "code",
   "execution_count": 10,
   "metadata": {},
   "outputs": [
    {
     "name": "stdout",
     "output_type": "stream",
     "text": [
      "Read preprocessed data from cache file: preprocessed_data.pkl\n"
     ]
    }
   ],
   "source": [
    "# Preprocess data\n",
    "train_X, test_X, train_y, test_y = preprocess_data(train_X, test_X, train_y, test_y)"
   ]
  },
  {
   "cell_type": "code",
   "execution_count": 11,
   "metadata": {},
   "outputs": [],
   "source": [
    "import numpy as np\n",
    "from collections import Counter \n",
    "def build_dict(data, vocab_size = 5000):\n",
    "    \"\"\"Construct and return a dictionary mapping each of the most frequently appearing words to a unique integer.\"\"\"\n",
    "    \n",
    "    # TODO: Determine how often each word appears in `data`. Note that `data` is a list of sentences and that a\n",
    "    #       sentence is a list of words.\n",
    "    \n",
    "    x=[]\n",
    "    for i in data:\n",
    "        for j in i:\n",
    "            x.append(j)\n",
    "    counter=Counter(x)\n",
    "    word_count = {} # A dict storing the words that appear in the reviews along with how often they occur)\n",
    "    for word in counter:\n",
    "        word_count[word]=counter[word]\n",
    "    # TODO: Sort the words found in `data` so that sorted_words[0] is the most frequently appearing word and\n",
    "    #       sorted_words[-1] is the least frequently appearing word.\n",
    "    sorted_words=[]\n",
    "    for key, value in (sorted(word_count.items(), key = lambda x : x[1],reverse=True)) :\n",
    "         sorted_words.append(key)\n",
    "        \n",
    "    #sorted_words=[value for (key, value) in (sorted(word_count.items(), key = lambda x : x[1],reverse=True))]\n",
    "    #print(sorted_words)   \n",
    "    word_dict = {} # This is what we are building, a dictionary that translates words into integers\n",
    "    for idx, word in enumerate(sorted_words[:vocab_size - 2]): # The -2 is so that we save room for the 'no word'\n",
    "        word_dict[word] = idx + 2                              # 'infrequent' labels\n",
    "    print(word_dict)   \n",
    "    return word_dict"
   ]
  },
  {
   "cell_type": "code",
   "execution_count": 12,
   "metadata": {},
   "outputs": [
    {
     "name": "stdout",
     "output_type": "stream",
     "text": [
      "{'movi': 2, 'film': 3, 'one': 4, 'like': 5, 'time': 6, 'good': 7, 'make': 8, 'charact': 9, 'get': 10, 'see': 11, 'watch': 12, 'stori': 13, 'even': 14, 'would': 15, 'realli': 16, 'well': 17, 'scene': 18, 'look': 19, 'show': 20, 'much': 21, 'end': 22, 'peopl': 23, 'bad': 24, 'go': 25, 'great': 26, 'also': 27, 'first': 28, 'love': 29, 'think': 30, 'way': 31, 'act': 32, 'play': 33, 'made': 34, 'thing': 35, 'could': 36, 'know': 37, 'say': 38, 'seem': 39, 'work': 40, 'plot': 41, 'two': 42, 'actor': 43, 'year': 44, 'come': 45, 'mani': 46, 'seen': 47, 'take': 48, 'life': 49, 'want': 50, 'never': 51, 'littl': 52, 'best': 53, 'tri': 54, 'man': 55, 'ever': 56, 'give': 57, 'better': 58, 'still': 59, 'perform': 60, 'find': 61, 'feel': 62, 'part': 63, 'back': 64, 'use': 65, 'someth': 66, 'director': 67, 'actual': 68, 'interest': 69, 'lot': 70, 'real': 71, 'old': 72, 'cast': 73, 'though': 74, 'live': 75, 'star': 76, 'enjoy': 77, 'guy': 78, 'anoth': 79, 'new': 80, 'role': 81, 'noth': 82, '10': 83, 'funni': 84, 'music': 85, 'point': 86, 'start': 87, 'set': 88, 'girl': 89, 'origin': 90, 'day': 91, 'world': 92, 'everi': 93, 'believ': 94, 'turn': 95, 'quit': 96, 'us': 97, 'direct': 98, 'thought': 99, 'fact': 100, 'minut': 101, 'horror': 102, 'kill': 103, 'action': 104, 'comedi': 105, 'pretti': 106, 'young': 107, 'wonder': 108, 'happen': 109, 'around': 110, 'got': 111, 'effect': 112, 'right': 113, 'long': 114, 'howev': 115, 'big': 116, 'line': 117, 'famili': 118, 'enough': 119, 'seri': 120, 'may': 121, 'need': 122, 'fan': 123, 'bit': 124, 'script': 125, 'beauti': 126, 'person': 127, 'becom': 128, 'without': 129, 'must': 130, 'alway': 131, 'friend': 132, 'tell': 133, 'reason': 134, 'saw': 135, 'last': 136, 'final': 137, 'kid': 138, 'almost': 139, 'put': 140, 'least': 141, 'sure': 142, 'done': 143, 'whole': 144, 'place': 145, 'complet': 146, 'kind': 147, 'differ': 148, 'expect': 149, 'shot': 150, 'far': 151, 'mean': 152, 'anyth': 153, 'book': 154, 'laugh': 155, 'might': 156, 'name': 157, 'sinc': 158, 'begin': 159, '2': 160, 'probabl': 161, 'woman': 162, 'help': 163, 'entertain': 164, 'let': 165, 'screen': 166, 'call': 167, 'tv': 168, 'moment': 169, 'away': 170, 'read': 171, 'yet': 172, 'rather': 173, 'worst': 174, 'run': 175, 'fun': 176, 'lead': 177, 'hard': 178, 'audienc': 179, 'idea': 180, 'anyon': 181, 'episod': 182, 'american': 183, 'found': 184, 'appear': 185, 'bore': 186, 'especi': 187, 'although': 188, 'hope': 189, 'cours': 190, 'keep': 191, 'anim': 192, 'job': 193, 'goe': 194, 'move': 195, 'sens': 196, 'version': 197, 'dvd': 198, 'war': 199, 'money': 200, 'someon': 201, 'mind': 202, 'mayb': 203, 'problem': 204, 'true': 205, 'hous': 206, 'everyth': 207, 'nice': 208, 'second': 209, 'rate': 210, 'three': 211, 'night': 212, 'follow': 213, 'face': 214, 'recommend': 215, 'main': 216, 'product': 217, 'worth': 218, 'leav': 219, 'human': 220, 'special': 221, 'excel': 222, 'togeth': 223, 'wast': 224, 'sound': 225, 'everyon': 226, 'john': 227, 'hand': 228, '1': 229, 'father': 230, 'later': 231, 'eye': 232, 'said': 233, 'view': 234, 'instead': 235, 'review': 236, 'boy': 237, 'high': 238, 'hour': 239, 'miss': 240, 'classic': 241, 'talk': 242, 'wife': 243, 'understand': 244, 'left': 245, 'care': 246, 'black': 247, 'death': 248, 'open': 249, 'murder': 250, 'write': 251, 'half': 252, 'head': 253, 'rememb': 254, 'chang': 255, 'viewer': 256, 'fight': 257, 'gener': 258, 'surpris': 259, 'short': 260, 'includ': 261, 'die': 262, 'fall': 263, 'less': 264, 'els': 265, 'entir': 266, 'piec': 267, 'involv': 268, 'pictur': 269, 'simpli': 270, 'top': 271, 'power': 272, 'home': 273, 'total': 274, 'usual': 275, 'budget': 276, 'attempt': 277, 'suppos': 278, 'releas': 279, 'hollywood': 280, 'terribl': 281, 'song': 282, 'men': 283, 'possibl': 284, 'featur': 285, 'portray': 286, 'disappoint': 287, 'poor': 288, '3': 289, 'coupl': 290, 'camera': 291, 'stupid': 292, 'dead': 293, 'wrong': 294, 'produc': 295, 'low': 296, 'either': 297, 'video': 298, 'aw': 299, 'definit': 300, 'except': 301, 'rest': 302, 'given': 303, 'absolut': 304, 'women': 305, 'lack': 306, 'word': 307, 'writer': 308, 'titl': 309, 'talent': 310, 'decid': 311, 'full': 312, 'perfect': 313, 'along': 314, 'style': 315, 'close': 316, 'truli': 317, 'school': 318, 'emot': 319, 'save': 320, 'age': 321, 'sex': 322, 'next': 323, 'bring': 324, 'mr': 325, 'case': 326, 'killer': 327, 'heart': 328, 'comment': 329, 'sort': 330, 'creat': 331, 'perhap': 332, 'came': 333, 'brother': 334, 'sever': 335, 'joke': 336, 'art': 337, 'dialogu': 338, 'game': 339, 'small': 340, 'base': 341, 'flick': 342, 'written': 343, 'sequenc': 344, 'meet': 345, 'earli': 346, 'often': 347, 'other': 348, 'mother': 349, 'develop': 350, 'humor': 351, 'actress': 352, 'consid': 353, 'dark': 354, 'guess': 355, 'amaz': 356, 'unfortun': 357, 'light': 358, 'lost': 359, 'exampl': 360, 'cinema': 361, 'drama': 362, 'ye': 363, 'white': 364, 'experi': 365, 'imagin': 366, 'mention': 367, 'stop': 368, 'natur': 369, 'forc': 370, 'manag': 371, 'felt': 372, 'present': 373, 'cut': 374, 'children': 375, 'fail': 376, 'son': 377, 'car': 378, 'qualiti': 379, 'support': 380, 'ask': 381, 'hit': 382, 'side': 383, 'voic': 384, 'extrem': 385, 'impress': 386, 'wors': 387, 'evil': 388, 'stand': 389, 'went': 390, 'certainli': 391, 'basic': 392, 'oh': 393, 'overal': 394, 'favorit': 395, 'horribl': 396, 'mysteri': 397, 'number': 398, 'type': 399, 'danc': 400, 'wait': 401, 'hero': 402, 'alreadi': 403, '5': 404, 'learn': 405, 'matter': 406, '4': 407, 'michael': 408, 'genr': 409, 'fine': 410, 'despit': 411, 'throughout': 412, 'walk': 413, 'success': 414, 'histori': 415, 'question': 416, 'zombi': 417, 'town': 418, 'realiz': 419, 'relationship': 420, 'child': 421, 'past': 422, 'daughter': 423, 'late': 424, 'b': 425, 'wish': 426, 'credit': 427, 'hate': 428, 'event': 429, 'theme': 430, 'touch': 431, 'citi': 432, 'today': 433, 'sometim': 434, 'behind': 435, 'god': 436, 'twist': 437, 'sit': 438, 'stay': 439, 'deal': 440, 'annoy': 441, 'abl': 442, 'rent': 443, 'pleas': 444, 'edit': 445, 'blood': 446, 'deserv': 447, 'comic': 448, 'anyway': 449, 'appar': 450, 'soon': 451, 'gave': 452, 'etc': 453, 'level': 454, 'slow': 455, 'chanc': 456, 'score': 457, 'bodi': 458, 'brilliant': 459, 'incred': 460, 'figur': 461, 'situat': 462, 'major': 463, 'self': 464, 'stuff': 465, 'decent': 466, 'element': 467, 'dream': 468, 'return': 469, 'obvious': 470, 'order': 471, 'continu': 472, 'pace': 473, 'ridicul': 474, 'happi': 475, 'group': 476, 'highli': 477, 'add': 478, 'thank': 479, 'ladi': 480, 'novel': 481, 'speak': 482, 'pain': 483, 'career': 484, 'shoot': 485, 'strang': 486, 'heard': 487, 'sad': 488, 'polic': 489, 'husband': 490, 'import': 491, 'break': 492, 'took': 493, 'cannot': 494, 'strong': 495, 'robert': 496, 'predict': 497, 'violenc': 498, 'hilari': 499, 'recent': 500, 'countri': 501, 'known': 502, 'particularli': 503, 'pick': 504, 'documentari': 505, 'season': 506, 'critic': 507, 'jame': 508, 'compar': 509, 'obviou': 510, 'alon': 511, 'told': 512, 'state': 513, 'rock': 514, 'visual': 515, 'offer': 516, 'exist': 517, 'theater': 518, 'opinion': 519, 'gore': 520, 'hold': 521, 'crap': 522, 'result': 523, 'hear': 524, 'room': 525, 'realiti': 526, 'clich': 527, 'effort': 528, 'thriller': 529, 'caus': 530, 'serious': 531, 'explain': 532, 'sequel': 533, 'king': 534, 'local': 535, 'ago': 536, 'hell': 537, 'none': 538, 'note': 539, 'allow': 540, 'david': 541, 'sister': 542, 'simpl': 543, 'femal': 544, 'deliv': 545, 'ok': 546, 'convinc': 547, 'class': 548, 'check': 549, 'suspens': 550, 'win': 551, 'buy': 552, 'oscar': 553, 'huge': 554, 'valu': 555, 'sexual': 556, 'scari': 557, 'cool': 558, 'similar': 559, 'excit': 560, 'provid': 561, 'exactli': 562, 'apart': 563, 'avoid': 564, 'shown': 565, 'seriou': 566, 'english': 567, 'taken': 568, 'whose': 569, 'cinematographi': 570, 'shock': 571, 'polit': 572, 'spoiler': 573, 'offic': 574, 'across': 575, 'middl': 576, 'pass': 577, 'street': 578, 'messag': 579, 'charm': 580, 'somewhat': 581, 'silli': 582, 'modern': 583, 'confus': 584, 'filmmak': 585, 'form': 586, 'tale': 587, 'singl': 588, 'jack': 589, 'mostli': 590, 'carri': 591, 'attent': 592, 'william': 593, 'sing': 594, 'subject': 595, 'five': 596, 'richard': 597, 'prove': 598, 'team': 599, 'stage': 600, 'cop': 601, 'unlik': 602, 'georg': 603, 'monster': 604, 'televis': 605, 'earth': 606, 'cover': 607, 'villain': 608, 'pay': 609, 'marri': 610, 'toward': 611, 'build': 612, 'parent': 613, 'pull': 614, 'due': 615, 'respect': 616, 'fill': 617, 'four': 618, 'dialog': 619, 'remind': 620, 'futur': 621, 'weak': 622, 'typic': 623, '7': 624, 'cheap': 625, 'intellig': 626, 'british': 627, 'atmospher': 628, '80': 629, 'clearli': 630, 'dog': 631, 'paul': 632, 'non': 633, 'knew': 634, 'fast': 635, 'artist': 636, '8': 637, 'crime': 638, 'easili': 639, 'escap': 640, 'doubt': 641, 'adult': 642, 'detail': 643, 'date': 644, 'fire': 645, 'member': 646, 'romant': 647, 'gun': 648, 'drive': 649, 'straight': 650, 'fit': 651, 'beyond': 652, 'attack': 653, 'imag': 654, 'upon': 655, 'posit': 656, 'whether': 657, 'fantast': 658, 'peter': 659, 'captur': 660, 'aspect': 661, 'appreci': 662, 'ten': 663, 'plan': 664, 'discov': 665, 'remain': 666, 'period': 667, 'near': 668, 'air': 669, 'realist': 670, 'mark': 671, 'red': 672, 'dull': 673, 'adapt': 674, 'within': 675, 'spend': 676, 'lose': 677, 'materi': 678, 'color': 679, 'chase': 680, 'mari': 681, 'storylin': 682, 'forget': 683, 'bunch': 684, 'clear': 685, 'lee': 686, 'victim': 687, 'nearli': 688, 'box': 689, 'york': 690, 'match': 691, 'inspir': 692, 'finish': 693, 'mess': 694, 'standard': 695, 'easi': 696, 'truth': 697, 'busi': 698, 'suffer': 699, 'bill': 700, 'dramat': 701, 'space': 702, 'western': 703, 'e': 704, 'list': 705, 'battl': 706, 'notic': 707, 'de': 708, 'french': 709, 'ad': 710, '9': 711, 'tom': 712, 'larg': 713, 'among': 714, 'eventu': 715, 'train': 716, 'accept': 717, 'agre': 718, 'soundtrack': 719, 'spirit': 720, 'third': 721, 'teenag': 722, 'adventur': 723, 'soldier': 724, 'famou': 725, 'suggest': 726, 'sorri': 727, 'drug': 728, 'cri': 729, 'normal': 730, 'babi': 731, 'troubl': 732, 'ultim': 733, 'contain': 734, 'certain': 735, 'cultur': 736, 'romanc': 737, 'rare': 738, 'lame': 739, 'somehow': 740, 'disney': 741, 'mix': 742, 'gone': 743, 'cartoon': 744, 'student': 745, 'fear': 746, 'reveal': 747, 'kept': 748, 'suck': 749, 'attract': 750, 'appeal': 751, 'premis': 752, 'secret': 753, 'design': 754, 'greatest': 755, 'shame': 756, 'throw': 757, 'scare': 758, 'copi': 759, 'wit': 760, 'america': 761, 'admit': 762, 'particular': 763, 'relat': 764, 'brought': 765, 'screenplay': 766, 'whatev': 767, 'pure': 768, '70': 769, 'averag': 770, 'harri': 771, 'master': 772, 'describ': 773, 'male': 774, 'treat': 775, '20': 776, 'fantasi': 777, 'issu': 778, 'warn': 779, 'inde': 780, 'background': 781, 'forward': 782, 'project': 783, 'free': 784, 'memor': 785, 'japanes': 786, 'poorli': 787, 'award': 788, 'locat': 789, 'potenti': 790, 'amus': 791, 'struggl': 792, 'magic': 793, 'weird': 794, 'societi': 795, 'okay': 796, 'imdb': 797, 'doctor': 798, 'accent': 799, 'water': 800, 'hot': 801, 'dr': 802, '30': 803, 'alien': 804, 'express': 805, 'odd': 806, 'crazi': 807, 'choic': 808, 'fiction': 809, 'studio': 810, 'control': 811, 'becam': 812, 'masterpiec': 813, 'fli': 814, 'difficult': 815, 'joe': 816, 'scream': 817, 'costum': 818, 'lover': 819, 'uniqu': 820, 'refer': 821, 'remak': 822, 'girlfriend': 823, 'vampir': 824, 'prison': 825, 'execut': 826, 'wear': 827, 'jump': 828, 'wood': 829, 'unless': 830, 'creepi': 831, 'cheesi': 832, 'superb': 833, 'otherwis': 834, 'parti': 835, 'ghost': 836, 'roll': 837, 'public': 838, 'mad': 839, 'depict': 840, 'earlier': 841, 'week': 842, 'moral': 843, 'badli': 844, 'jane': 845, 'dumb': 846, 'fi': 847, 'grow': 848, 'flaw': 849, 'deep': 850, 'sci': 851, 'maker': 852, 'cat': 853, 'older': 854, 'connect': 855, 'footag': 856, 'plenti': 857, 'bother': 858, 'outsid': 859, 'stick': 860, 'gay': 861, 'catch': 862, 'co': 863, 'plu': 864, 'popular': 865, 'equal': 866, 'social': 867, 'quickli': 868, 'disturb': 869, 'perfectli': 870, 'dress': 871, '90': 872, 'era': 873, 'mistak': 874, 'lie': 875, 'previou': 876, 'ride': 877, 'combin': 878, 'concept': 879, 'band': 880, 'rich': 881, 'surviv': 882, 'answer': 883, 'front': 884, 'christma': 885, 'sweet': 886, 'insid': 887, 'bare': 888, 'eat': 889, 'concern': 890, 'ben': 891, 'beat': 892, 'listen': 893, 'c': 894, 'term': 895, 'serv': 896, 'meant': 897, 'la': 898, 'german': 899, 'hardli': 900, 'stereotyp': 901, 'law': 902, 'innoc': 903, 'desper': 904, 'memori': 905, 'promis': 906, 'cute': 907, 'intent': 908, 'inform': 909, 'steal': 910, 'variou': 911, 'brain': 912, 'post': 913, 'tone': 914, 'island': 915, 'amount': 916, 'nuditi': 917, 'track': 918, 'compani': 919, 'claim': 920, 'store': 921, '50': 922, 'hair': 923, 'flat': 924, 'land': 925, 'univers': 926, 'scott': 927, 'danger': 928, 'fairli': 929, 'kick': 930, 'player': 931, 'crew': 932, 'plain': 933, 'step': 934, 'toni': 935, 'share': 936, 'tast': 937, 'centuri': 938, 'achiev': 939, 'engag': 940, 'cold': 941, 'travel': 942, 'record': 943, 'suit': 944, 'rip': 945, 'sadli': 946, 'manner': 947, 'tension': 948, 'spot': 949, 'wrote': 950, 'fascin': 951, 'intens': 952, 'familiar': 953, 'depth': 954, 'burn': 955, 'remark': 956, 'destroy': 957, 'histor': 958, 'sleep': 959, 'purpos': 960, 'languag': 961, 'ruin': 962, 'ignor': 963, 'delight': 964, 'unbeliev': 965, 'italian': 966, 'abil': 967, 'soul': 968, 'collect': 969, 'detect': 970, 'clever': 971, 'violent': 972, 'rape': 973, 'reach': 974, 'door': 975, 'trash': 976, 'liter': 977, 'scienc': 978, 'reveng': 979, 'commun': 980, 'caught': 981, 'creatur': 982, 'approach': 983, 'trip': 984, 'intrigu': 985, 'fashion': 986, 'skill': 987, 'introduc': 988, 'paint': 989, 'channel': 990, 'complex': 991, 'camp': 992, 'christian': 993, 'hole': 994, 'extra': 995, 'mental': 996, 'immedi': 997, 'limit': 998, 'ann': 999, 'million': 1000, 'slightli': 1001, '6': 1002, 'comput': 1003, 'mere': 1004, 'conclus': 1005, 'slasher': 1006, 'suddenli': 1007, 'imposs': 1008, 'crimin': 1009, 'neither': 1010, 'teen': 1011, 'nation': 1012, 'physic': 1013, 'spent': 1014, 'respons': 1015, 'planet': 1016, 'fake': 1017, 'receiv': 1018, 'sick': 1019, 'blue': 1020, 'bizarr': 1021, 'embarrass': 1022, 'indian': 1023, 'ring': 1024, '15': 1025, 'pop': 1026, 'drop': 1027, 'drag': 1028, 'haunt': 1029, 'pointless': 1030, 'suspect': 1031, 'search': 1032, 'edg': 1033, 'handl': 1034, 'biggest': 1035, 'common': 1036, 'hurt': 1037, 'arriv': 1038, 'faith': 1039, 'technic': 1040, 'angel': 1041, 'genuin': 1042, 'dad': 1043, 'solid': 1044, 'f': 1045, 'awesom': 1046, 'focu': 1047, 'van': 1048, 'colleg': 1049, 'former': 1050, 'count': 1051, 'heavi': 1052, 'tear': 1053, 'rais': 1054, 'wall': 1055, 'younger': 1056, 'laughabl': 1057, 'visit': 1058, 'sign': 1059, 'excus': 1060, 'fair': 1061, 'cult': 1062, 'key': 1063, 'motion': 1064, 'tough': 1065, 'desir': 1066, 'super': 1067, 'addit': 1068, 'stun': 1069, 'cloth': 1070, 'exploit': 1071, 'smith': 1072, 'tortur': 1073, 'race': 1074, 'davi': 1075, 'cross': 1076, 'author': 1077, 'jim': 1078, 'minor': 1079, 'focus': 1080, 'compel': 1081, 'consist': 1082, 'commit': 1083, 'chemistri': 1084, 'pathet': 1085, 'park': 1086, 'tradit': 1087, 'obsess': 1088, 'frank': 1089, 'grade': 1090, 'asid': 1091, '60': 1092, 'brutal': 1093, 'somewher': 1094, 'steve': 1095, 'grant': 1096, 'depress': 1097, 'u': 1098, 'opportun': 1099, 'rule': 1100, 'explor': 1101, 'honest': 1102, 'besid': 1103, 'dub': 1104, 'anti': 1105, 'intend': 1106, 'trailer': 1107, 'bar': 1108, 'scientist': 1109, 'west': 1110, 'regard': 1111, 'longer': 1112, 'decad': 1113, 'judg': 1114, 'silent': 1115, 'creativ': 1116, 'armi': 1117, 'wild': 1118, 'g': 1119, 'stewart': 1120, 'south': 1121, 'draw': 1122, 'road': 1123, 'govern': 1124, 'boss': 1125, 'ex': 1126, 'practic': 1127, 'surprisingli': 1128, 'festiv': 1129, 'club': 1130, 'gang': 1131, 'motiv': 1132, 'green': 1133, 'london': 1134, 'page': 1135, 'redeem': 1136, 'display': 1137, 'aliv': 1138, 'militari': 1139, 'idiot': 1140, 'machin': 1141, 'thrill': 1142, 'repeat': 1143, 'folk': 1144, 'nobodi': 1145, '100': 1146, 'yeah': 1147, '40': 1148, 'garbag': 1149, 'journey': 1150, 'smile': 1151, 'tire': 1152, 'ground': 1153, 'mood': 1154, 'bought': 1155, 'stone': 1156, 'sam': 1157, 'cost': 1158, 'noir': 1159, 'mouth': 1160, 'terrif': 1161, 'agent': 1162, 'utterli': 1163, 'requir': 1164, 'honestli': 1165, 'area': 1166, 'sexi': 1167, 'report': 1168, 'geniu': 1169, 'investig': 1170, 'humour': 1171, 'glad': 1172, 'enter': 1173, 'serial': 1174, 'narr': 1175, 'passion': 1176, 'occasion': 1177, 'marriag': 1178, 'climax': 1179, 'studi': 1180, 'industri': 1181, 'nowher': 1182, 'demon': 1183, 'center': 1184, 'ship': 1185, 'charli': 1186, 'bear': 1187, 'hors': 1188, 'loos': 1189, 'hang': 1190, 'wow': 1191, 'graphic': 1192, 'admir': 1193, 'giant': 1194, 'send': 1195, 'damn': 1196, 'loud': 1197, 'nake': 1198, 'profession': 1199, 'rel': 1200, 'subtl': 1201, 'blow': 1202, 'bottom': 1203, 'batman': 1204, 'insult': 1205, 'r': 1206, 'doubl': 1207, 'boyfriend': 1208, 'kelli': 1209, 'initi': 1210, 'frame': 1211, 'gem': 1212, 'opera': 1213, 'challeng': 1214, 'drawn': 1215, 'cinemat': 1216, 'affect': 1217, 'church': 1218, 'evid': 1219, 'seek': 1220, 'nightmar': 1221, 'fulli': 1222, 'j': 1223, 'l': 1224, 'conflict': 1225, 'essenti': 1226, 'arm': 1227, 'henri': 1228, 'wind': 1229, 'grace': 1230, 'christoph': 1231, 'assum': 1232, 'narrat': 1233, 'witch': 1234, 'push': 1235, 'hunt': 1236, 'wise': 1237, 'chri': 1238, 'repres': 1239, 'month': 1240, 'nomin': 1241, 'sceneri': 1242, 'avail': 1243, 'hide': 1244, 'affair': 1245, 'bond': 1246, 'thu': 1247, 'justic': 1248, 'smart': 1249, 'interview': 1250, 'flashback': 1251, 'outstand': 1252, 'presenc': 1253, 'constantli': 1254, 'satisfi': 1255, 'bed': 1256, 'central': 1257, 'iron': 1258, 'content': 1259, 'sell': 1260, 'gag': 1261, 'everybodi': 1262, 'slowli': 1263, 'hotel': 1264, 'hire': 1265, 'system': 1266, 'individu': 1267, 'hey': 1268, 'adam': 1269, 'charl': 1270, 'thrown': 1271, 'jone': 1272, 'mediocr': 1273, 'allen': 1274, 'lesson': 1275, 'ray': 1276, 'billi': 1277, 'cameo': 1278, 'photographi': 1279, 'fellow': 1280, 'pari': 1281, 'strike': 1282, 'absurd': 1283, 'brief': 1284, 'independ': 1285, 'rise': 1286, 'neg': 1287, 'phone': 1288, 'impact': 1289, 'model': 1290, 'ill': 1291, 'born': 1292, 'angl': 1293, 'spoil': 1294, 'fresh': 1295, 'abus': 1296, 'likabl': 1297, 'hill': 1298, 'discuss': 1299, 'sight': 1300, 'ahead': 1301, 'photograph': 1302, 'sent': 1303, 'shine': 1304, 'blame': 1305, 'logic': 1306, 'occur': 1307, 'mainli': 1308, 'bruce': 1309, 'commerci': 1310, 'skip': 1311, 'forev': 1312, 'surround': 1313, 'segment': 1314, 'held': 1315, 'teacher': 1316, 'blond': 1317, 'zero': 1318, 'summer': 1319, 'trap': 1320, 'satir': 1321, 'resembl': 1322, 'queen': 1323, 'ball': 1324, 'fool': 1325, 'six': 1326, 'twice': 1327, 'tragedi': 1328, 'sub': 1329, 'pack': 1330, 'reaction': 1331, 'bomb': 1332, 'hospit': 1333, 'protagonist': 1334, 'will': 1335, 'mile': 1336, 'sport': 1337, 'vote': 1338, 'trust': 1339, 'drink': 1340, 'mom': 1341, 'jerri': 1342, 'encount': 1343, 'plane': 1344, 'program': 1345, 'station': 1346, 'current': 1347, 'al': 1348, 'choos': 1349, 'martin': 1350, 'celebr': 1351, 'join': 1352, 'favourit': 1353, 'round': 1354, 'tragic': 1355, 'lord': 1356, 'field': 1357, 'robot': 1358, 'vision': 1359, 'jean': 1360, 'tie': 1361, 'arthur': 1362, 'random': 1363, 'fortun': 1364, 'roger': 1365, 'psycholog': 1366, 'intern': 1367, 'dread': 1368, 'epic': 1369, 'nonsens': 1370, 'improv': 1371, 'prefer': 1372, 'pleasur': 1373, 'formula': 1374, 'legend': 1375, 'highlight': 1376, 'dollar': 1377, '11': 1378, 'tape': 1379, 'porn': 1380, 'object': 1381, 'wide': 1382, 'thin': 1383, 'gorgeou': 1384, 'fox': 1385, 'influenc': 1386, 'buddi': 1387, 'ugli': 1388, 'prepar': 1389, 'ii': 1390, 'nasti': 1391, 'supposedli': 1392, 'warm': 1393, 'reflect': 1394, 'progress': 1395, 'worthi': 1396, 'youth': 1397, 'unusu': 1398, 'latter': 1399, 'length': 1400, 'crash': 1401, 'seven': 1402, 'superior': 1403, 'shop': 1404, 'childhood': 1405, 'theatr': 1406, 'remot': 1407, 'disgust': 1408, 'funniest': 1409, 'paid': 1410, 'pilot': 1411, 'fell': 1412, 'convers': 1413, 'castl': 1414, 'trick': 1415, 'rob': 1416, 'establish': 1417, 'disast': 1418, 'gangster': 1419, 'disappear': 1420, 'mine': 1421, 'heaven': 1422, 'suicid': 1423, 'ident': 1424, 'decis': 1425, 'mask': 1426, 'forgotten': 1427, 'tend': 1428, 'heroin': 1429, 'singer': 1430, 'partner': 1431, 'brian': 1432, 'desert': 1433, 'alan': 1434, 'recogn': 1435, 'thoroughli': 1436, 'p': 1437, 'ms': 1438, 'stuck': 1439, 'sky': 1440, 'replac': 1441, 'accur': 1442, 'market': 1443, 'uncl': 1444, 'clue': 1445, 'seemingli': 1446, 'eddi': 1447, 'danni': 1448, 'commentari': 1449, 'andi': 1450, 'devil': 1451, 'jackson': 1452, 'pair': 1453, 'that': 1454, 'refus': 1455, 'therefor': 1456, 'fate': 1457, 'accid': 1458, 'fault': 1459, 'ed': 1460, 'river': 1461, 'unit': 1462, 'tune': 1463, 'afraid': 1464, 'clean': 1465, 'stephen': 1466, 'russian': 1467, 'hidden': 1468, 'irrit': 1469, 'quick': 1470, 'instanc': 1471, 'captain': 1472, 'convey': 1473, 'test': 1474, 'readi': 1475, 'european': 1476, 'daniel': 1477, 'insan': 1478, 'frustrat': 1479, 'rescu': 1480, 'food': 1481, '1950': 1482, 'chines': 1483, 'wed': 1484, 'dirti': 1485, 'lock': 1486, 'angri': 1487, 'joy': 1488, 'steven': 1489, 'price': 1490, 'bland': 1491, 'cage': 1492, 'anymor': 1493, 'rang': 1494, 'wooden': 1495, 'n': 1496, 'news': 1497, 'jason': 1498, 'rush': 1499, 'board': 1500, 'worri': 1501, '12': 1502, 'led': 1503, 'twenti': 1504, 'martial': 1505, 'cgi': 1506, 'symbol': 1507, 'hunter': 1508, 'transform': 1509, 'invent': 1510, 'piti': 1511, 'x': 1512, 'onto': 1513, 'sentiment': 1514, 'johnni': 1515, 'explan': 1516, 'attitud': 1517, 'process': 1518, 'owner': 1519, 'awar': 1520, 'aim': 1521, 'necessari': 1522, 'floor': 1523, 'energi': 1524, 'favor': 1525, 'target': 1526, 'religi': 1527, 'opposit': 1528, 'window': 1529, 'blind': 1530, 'chick': 1531, 'insight': 1532, 'movement': 1533, 'deepli': 1534, 'comparison': 1535, 'possess': 1536, 'research': 1537, 'mountain': 1538, 'rain': 1539, 'whatsoev': 1540, 'comed': 1541, 'grand': 1542, 'began': 1543, 'shadow': 1544, 'bank': 1545, 'mid': 1546, 'parodi': 1547, 'princ': 1548, 'friendship': 1549, 'pre': 1550, 'credibl': 1551, 'taylor': 1552, 'weapon': 1553, 'teach': 1554, 'dougla': 1555, 'flesh': 1556, 'hint': 1557, 'terror': 1558, 'protect': 1559, 'bloodi': 1560, 'marvel': 1561, 'superman': 1562, 'drunk': 1563, 'load': 1564, 'anybodi': 1565, 'watchabl': 1566, 'accord': 1567, 'leader': 1568, 'brown': 1569, 'freddi': 1570, 'hitler': 1571, 'tim': 1572, 'seat': 1573, 'appropri': 1574, 'jeff': 1575, 'villag': 1576, 'keaton': 1577, 'unknown': 1578, 'knock': 1579, 'charg': 1580, 'england': 1581, 'empti': 1582, 'unnecessari': 1583, 'media': 1584, 'enemi': 1585, 'utter': 1586, 'strength': 1587, 'wave': 1588, 'perspect': 1589, 'buck': 1590, 'craft': 1591, 'dare': 1592, 'kiss': 1593, 'ford': 1594, 'contrast': 1595, 'correct': 1596, 'nativ': 1597, 'knowledg': 1598, 'speed': 1599, 'chill': 1600, 'magnific': 1601, 'distract': 1602, 'soap': 1603, 'anywher': 1604, 'nazi': 1605, 'ice': 1606, 'breath': 1607, '1980': 1608, 'mission': 1609, 'fred': 1610, 'joan': 1611, 'crowd': 1612, 'jr': 1613, 'moon': 1614, 'soft': 1615, 'frighten': 1616, 'kate': 1617, '000': 1618, 'dick': 1619, 'nick': 1620, 'hundr': 1621, 'dan': 1622, 'dozen': 1623, 'radio': 1624, 'somebodi': 1625, 'simon': 1626, 'loss': 1627, 'andrew': 1628, 'thousand': 1629, 'shakespear': 1630, 'academi': 1631, 'account': 1632, 'vehicl': 1633, 'root': 1634, 'quot': 1635, 'sum': 1636, 'behavior': 1637, '1970': 1638, 'convent': 1639, 'leg': 1640, 'regular': 1641, 'gold': 1642, 'pretenti': 1643, 'compet': 1644, 'worker': 1645, 'demand': 1646, 'candi': 1647, 'privat': 1648, 'notabl': 1649, 'japan': 1650, 'stretch': 1651, 'interpret': 1652, 'lynch': 1653, 'explos': 1654, 'tarzan': 1655, 'constant': 1656, 'debut': 1657, 'translat': 1658, 'spi': 1659, 'revolv': 1660, 'prais': 1661, 'sea': 1662, 'sat': 1663, 'threaten': 1664, 'technolog': 1665, 'franc': 1666, 'failur': 1667, 'ass': 1668, 'quiet': 1669, 'jesu': 1670, 'toy': 1671, 'met': 1672, 'kevin': 1673, 'aid': 1674, 'punch': 1675, 'higher': 1676, 'abandon': 1677, 'vh': 1678, 'interact': 1679, 'mike': 1680, 'command': 1681, 'confront': 1682, 'separ': 1683, 'bet': 1684, 'site': 1685, 'belong': 1686, 'recal': 1687, 'gotten': 1688, 'techniqu': 1689, 'servic': 1690, 'stunt': 1691, 'cabl': 1692, 'foot': 1693, 'bug': 1694, 'freak': 1695, 'jimmi': 1696, 'african': 1697, 'capabl': 1698, 'bright': 1699, 'fu': 1700, 'fat': 1701, 'boat': 1702, 'succeed': 1703, 'stock': 1704, 'presid': 1705, 'clark': 1706, 'structur': 1707, 'gene': 1708, 'spanish': 1709, 'paper': 1710, 'kidnap': 1711, 'factor': 1712, 'whilst': 1713, 'belief': 1714, 'realism': 1715, 'tree': 1716, 'witti': 1717, 'realis': 1718, 'complic': 1719, 'attend': 1720, 'bob': 1721, 'educ': 1722, 'broken': 1723, 'assist': 1724, 'santa': 1725, 'finest': 1726, 'determin': 1727, 'observ': 1728, 'up': 1729, 'depart': 1730, 'v': 1731, 'smoke': 1732, 'fame': 1733, 'domin': 1734, 'oper': 1735, 'rubbish': 1736, 'hat': 1737, 'routin': 1738, 'lewi': 1739, 'lone': 1740, 'advanc': 1741, 'kinda': 1742, 'safe': 1743, 'foreign': 1744, 'hook': 1745, 'morgan': 1746, 'numer': 1747, 'rank': 1748, 'rose': 1749, 'civil': 1750, 'vs': 1751, 'shallow': 1752, 'shape': 1753, 'werewolf': 1754, 'washington': 1755, 'morn': 1756, 'gari': 1757, 'accomplish': 1758, 'ordinari': 1759, 'winner': 1760, 'kong': 1761, 'grab': 1762, 'virtual': 1763, 'whenev': 1764, 'peac': 1765, 'luck': 1766, 'offens': 1767, 'h': 1768, 'welcom': 1769, 'bigger': 1770, 'unfunni': 1771, 'contriv': 1772, 'complain': 1773, 'patient': 1774, 'activ': 1775, 'dimension': 1776, 'pretend': 1777, 'con': 1778, 'trek': 1779, 'wake': 1780, 'flash': 1781, 'dri': 1782, 'cain': 1783, 'lesbian': 1784, 'code': 1785, 'eric': 1786, 'corrupt': 1787, 'statu': 1788, 'manipul': 1789, 'guard': 1790, 'albert': 1791, 'dancer': 1792, 'gain': 1793, 'awkward': 1794, 'signific': 1795, 'context': 1796, 'sourc': 1797, 'speech': 1798, 'psycho': 1799, 'corni': 1800, 'anthoni': 1801, 'sean': 1802, '13': 1803, 'clip': 1804, 'curiou': 1805, 'w': 1806, 'priest': 1807, 'theatric': 1808, 'religion': 1809, 'advic': 1810, 'reli': 1811, 'flow': 1812, 'addict': 1813, 'skin': 1814, 'howard': 1815, 'specif': 1816, 'asian': 1817, 'jennif': 1818, 'secur': 1819, 'luke': 1820, 'promot': 1821, 'comfort': 1822, 'golden': 1823, 'core': 1824, 'organ': 1825, 'lucki': 1826, 'cash': 1827, 'cheat': 1828, 'dislik': 1829, 'lower': 1830, 'associ': 1831, 'regret': 1832, 'contribut': 1833, 'wing': 1834, 'frequent': 1835, 'frankli': 1836, 'balanc': 1837, 'spell': 1838, 'degre': 1839, 'devic': 1840, 'forgiv': 1841, 'sake': 1842, 'lake': 1843, 'print': 1844, 'mass': 1845, 'thoma': 1846, 'betti': 1847, 'crack': 1848, 'unexpect': 1849, 'gordon': 1850, 'categori': 1851, 'invit': 1852, 'amateur': 1853, 'grown': 1854, 'unfold': 1855, 'construct': 1856, 'depend': 1857, 'intellectu': 1858, 'grew': 1859, 'condit': 1860, 'matur': 1861, 'honor': 1862, 'walter': 1863, 'anna': 1864, 'veteran': 1865, 'mirror': 1866, 'sole': 1867, 'spectacular': 1868, 'sudden': 1869, 'experienc': 1870, 'card': 1871, 'demonstr': 1872, 'liner': 1873, 'freedom': 1874, 'gift': 1875, 'robin': 1876, 'meanwhil': 1877, 'overli': 1878, 'grip': 1879, 'crappi': 1880, 'brilliantli': 1881, 'section': 1882, 'sheriff': 1883, 'subtitl': 1884, 'colour': 1885, 'theori': 1886, 'oliv': 1887, 'drew': 1888, 'unabl': 1889, 'circumst': 1890, 'pile': 1891, 'cook': 1892, 'parker': 1893, 'sheer': 1894, 'laughter': 1895, 'altern': 1896, 'matt': 1897, 'path': 1898, 'defin': 1899, 'relief': 1900, 'accident': 1901, 'hall': 1902, 'sinatra': 1903, 'wander': 1904, 'treatment': 1905, 'lawyer': 1906, 'dragon': 1907, 'hank': 1908, 'captiv': 1909, 'halloween': 1910, 'gratuit': 1911, 'moor': 1912, 'unintent': 1913, 'barbara': 1914, 'wound': 1915, 'kung': 1916, 'k': 1917, 'broadway': 1918, 'cowboy': 1919, 'wayn': 1920, 'jacki': 1921, 'surreal': 1922, 'winter': 1923, 'canadian': 1924, 'statement': 1925, 'spoof': 1926, 'fish': 1927, 'fare': 1928, 'treasur': 1929, 'gonna': 1930, 'cheer': 1931, 'compos': 1932, 'sensit': 1933, 'unrealist': 1934, 'victor': 1935, 'woodi': 1936, 'emerg': 1937, 'driven': 1938, 'neighbor': 1939, 'ran': 1940, 'sympathet': 1941, 'authent': 1942, 'topic': 1943, 'menac': 1944, 'overlook': 1945, 'expos': 1946, 'glass': 1947, 'michel': 1948, 'ancient': 1949, 'chief': 1950, 'handsom': 1951, 'gross': 1952, 'contemporari': 1953, 'built': 1954, 'nevertheless': 1955, 'stranger': 1956, 'network': 1957, 'pleasant': 1958, 'russel': 1959, 'feet': 1960, 'cinderella': 1961, 'comedian': 1962, 'endless': 1963, 'underr': 1964, 'miser': 1965, 'letter': 1966, 'earn': 1967, 'consider': 1968, 'blockbust': 1969, 'gori': 1970, 'switch': 1971, 'solv': 1972, 'brook': 1973, 'convict': 1974, 'virgin': 1975, 'edward': 1976, 'joseph': 1977, 'victoria': 1978, 'bullet': 1979, '0': 1980, 'cynic': 1981, 'scenario': 1982, 'scale': 1983, 'alex': 1984, 'chosen': 1985, 'curs': 1986, 'outrag': 1987, 'com': 1988, 'sword': 1989, 'gut': 1990, 'juli': 1991, 'monkey': 1992, 'uk': 1993, 'wrap': 1994, 'screenwrit': 1995, 'substanc': 1996, 'driver': 1997, 'proper': 1998, 'remov': 1999, 'par': 2000, 'bird': 2001, 'court': 2002, 'indic': 2003, 'naiv': 2004, 'loser': 2005, 'consequ': 2006, 'roy': 2007, 'inevit': 2008, 'grave': 2009, 'rental': 2010, 'advertis': 2011, 'nanci': 2012, 'germani': 2013, 'brave': 2014, 'bridg': 2015, 'slap': 2016, 'fatal': 2017, 'le': 2018, 'invis': 2019, 'ador': 2020, 'provok': 2021, 'anger': 2022, 'loui': 2023, 'footbal': 2024, 'anderson': 2025, 'alcohol': 2026, 'chan': 2027, 'stumbl': 2028, 'professor': 2029, 'ryan': 2030, 'willi': 2031, 'bat': 2032, 'australian': 2033, 'sharp': 2034, 'patrick': 2035, '1930': 2036, 'assassin': 2037, 'strongli': 2038, 'saturday': 2039, 'trilog': 2040, 'lousi': 2041, 'liber': 2042, 'amateurish': 2043, 'heck': 2044, 'eight': 2045, 'cell': 2046, 'refresh': 2047, 'deni': 2048, 'ape': 2049, 'sin': 2050, 'resid': 2051, 'justifi': 2052, 'san': 2053, 'vagu': 2054, 'indi': 2055, 'terrifi': 2056, 'mini': 2057, 'sympathi': 2058, 'defeat': 2059, 'reput': 2060, 'creator': 2061, 'task': 2062, 'tabl': 2063, 'expert': 2064, 'prevent': 2065, 'endur': 2066, 'tediou': 2067, 'basebal': 2068, 'offend': 2069, 'imit': 2070, 'trial': 2071, 'rival': 2072, 'employ': 2073, 'che': 2074, 'weekend': 2075, 'complaint': 2076, 'fairi': 2077, 'dig': 2078, 'beach': 2079, 'pitch': 2080, 'europ': 2081, 'max': 2082, 'risk': 2083, 'murphi': 2084, 'purchas': 2085, 'format': 2086, 'bite': 2087, 'titan': 2088, 'glimps': 2089, 'hype': 2090, 'reminisc': 2091, 'nois': 2092, 'tini': 2093, 'powel': 2094, 'harsh': 2095, 'asleep': 2096, 'prime': 2097, 'strip': 2098, 'north': 2099, '14': 2100, 'till': 2101, 'fals': 2102, 'africa': 2103, 'revel': 2104, 'destruct': 2105, 'descript': 2106, 'texa': 2107, 'semi': 2108, 'sitcom': 2109, 'inner': 2110, 'excess': 2111, 'surfac': 2112, 'uninterest': 2113, 'arrest': 2114, 'spin': 2115, 'hitchcock': 2116, 'twin': 2117, 'argu': 2118, 'maintain': 2119, 'controversi': 2120, 'makeup': 2121, 'massiv': 2122, 'dinosaur': 2123, 'stare': 2124, 'expens': 2125, 'kim': 2126, 'insist': 2127, 'reject': 2128, 'melodrama': 2129, 'ludicr': 2130, 'ideal': 2131, 'supernatur': 2132, 'press': 2133, 'subplot': 2134, 'nail': 2135, 'columbo': 2136, 'atroci': 2137, 'host': 2138, 'ala': 2139, 'forest': 2140, 'erot': 2141, 'ga': 2142, 'cant': 2143, 'identifi': 2144, 'dude': 2145, 'presum': 2146, 'notch': 2147, 'plagu': 2148, 'closer': 2149, 'crude': 2150, 'guest': 2151, 'character': 2152, 'method': 2153, 'forgett': 2154, 'beast': 2155, 'foster': 2156, 'border': 2157, 'princess': 2158, 'landscap': 2159, 'ear': 2160, 'lion': 2161, 'damag': 2162, 'birth': 2163, 'aunt': 2164, 'urban': 2165, 'storytel': 2166, 'jungl': 2167, 'previous': 2168, 'accus': 2169, 'bound': 2170, 'pacino': 2171, 'nude': 2172, 'jess': 2173, 'chose': 2174, 'guid': 2175, 'thirti': 2176, 'emma': 2177, 'doll': 2178, 'propaganda': 2179, '25': 2180, 'mainstream': 2181, 'pet': 2182, 'mate': 2183, 'whoever': 2184, 'warrior': 2185, 'exact': 2186, 'upset': 2187, 'cooper': 2188, 'size': 2189, 'merit': 2190, 'friday': 2191, 'gritti': 2192, 'deadli': 2193, 'poster': 2194, 'latest': 2195, 'wilson': 2196, 'buff': 2197, '1990': 2198, 'sun': 2199, 'popul': 2200, 'corps': 2201, 'rough': 2202, 'citizen': 2203, 'contact': 2204, 'warner': 2205, 'ton': 2206, 'contest': 2207, 'blend': 2208, 'settl': 2209, 'pitt': 2210, 'rat': 2211, 'widow': 2212, 'overcom': 2213, 'select': 2214, 'alic': 2215, 'bu': 2216, 'environ': 2217, 'metal': 2218, 'mgm': 2219, 'particip': 2220, 'lift': 2221, 'guilti': 2222, 'ted': 2223, 'revolut': 2224, 'link': 2225, 'johnson': 2226, 'corner': 2227, '1960': 2228, 'accompani': 2229, 'moron': 2230, 'prostitut': 2231, 'matrix': 2232, 'afternoon': 2233, 'corpor': 2234, 'exagger': 2235, 'leagu': 2236, 'hood': 2237, 'instal': 2238, 'multipl': 2239, 'clair': 2240, 'holm': 2241, 'friendli': 2242, 'sincer': 2243, 'doom': 2244, 'blah': 2245, 'campi': 2246, 'lugosi': 2247, 'aka': 2248, 'examin': 2249, 'sunday': 2250, 'string': 2251, 'junk': 2252, 'defend': 2253, 'advis': 2254, 'irish': 2255, 'hip': 2256, 'grim': 2257, 'tight': 2258, 'rachel': 2259, 'pro': 2260, 'varieti': 2261, 'confid': 2262, 'shut': 2263, 'shake': 2264, 'icon': 2265, 'directli': 2266, 'medic': 2267, 'mexican': 2268, 'goal': 2269, 'attach': 2270, 'denni': 2271, 'jaw': 2272, 'sullivan': 2273, 'breast': 2274, 'truck': 2275, 'sarah': 2276, 'duke': 2277, 'prior': 2278, 'sentenc': 2279, 'dean': 2280, 'vietnam': 2281, 'bourn': 2282, 'courag': 2283, 'legendari': 2284, 'terrorist': 2285, 'behav': 2286, 'yell': 2287, 'donald': 2288, 'proceed': 2289, 'nose': 2290, 'split': 2291, 'hong': 2292, 'entri': 2293, 'un': 2294, 'confess': 2295, 'concentr': 2296, 'buri': 2297, 'lifetim': 2298, 'everywher': 2299, 'stolen': 2300, 'unconvinc': 2301, 'crush': 2302, 'jerk': 2303, 'borrow': 2304, 'forth': 2305, 'swim': 2306, 'gather': 2307, 'lip': 2308, 'spite': 2309, 'pan': 2310, 'turkey': 2311, 'julia': 2312, 'deliveri': 2313, 'california': 2314, 'offici': 2315, 'quest': 2316, 'flight': 2317, 'reward': 2318, 'freeman': 2319, 'china': 2320, 'proud': 2321, 'hoffman': 2322, 'downright': 2323, 'sir': 2324, 'lazi': 2325, 'betray': 2326, 'jail': 2327, 'notori': 2328, 'worthwhil': 2329, 'fabul': 2330, 'encourag': 2331, 'fade': 2332, 'sink': 2333, 'jon': 2334, 'inept': 2335, 'shower': 2336, 'cousin': 2337, 'storm': 2338, 'bag': 2339, 'lisa': 2340, 'survivor': 2341, 'branagh': 2342, 'relev': 2343, 'teeth': 2344, 'imageri': 2345, 'bell': 2346, 'susan': 2347, 'retard': 2348, 'summari': 2349, 'tremend': 2350, 'quirki': 2351, 'bride': 2352, 'finger': 2353, 'shark': 2354, 'mexico': 2355, 'stab': 2356, 'alright': 2357, 'trade': 2358, 'facial': 2359, 'hugh': 2360, 'toler': 2361, 'hyster': 2362, 'blown': 2363, 'bitter': 2364, 'ha': 2365, 'pose': 2366, 'von': 2367, 'bone': 2368, 'cruel': 2369, 'address': 2370, 'christ': 2371, 'larri': 2372, 'afterward': 2373, 'ned': 2374, 'ron': 2375, 'scheme': 2376, 'swear': 2377, 'pursu': 2378, 'snake': 2379, 'distinct': 2380, 'tour': 2381, 'screw': 2382, 'beg': 2383, 'feed': 2384, 'thumb': 2385, 'traci': 2386, 'raw': 2387, 'chair': 2388, 'photo': 2389, 'occas': 2390, 'mechan': 2391, 'stomach': 2392, 'obscur': 2393, 'chain': 2394, 'holiday': 2395, 'necessarili': 2396, 'cabin': 2397, 'resist': 2398, 'southern': 2399, 'argument': 2400, 'hardi': 2401, 'gruesom': 2402, 'heavili': 2403, 'render': 2404, 'sidney': 2405, 'understood': 2406, 'indulg': 2407, 'racist': 2408, 'india': 2409, 'philip': 2410, 'satan': 2411, 'tongu': 2412, 'fourth': 2413, 'outfit': 2414, 'belov': 2415, 'stalk': 2416, 'integr': 2417, 'lay': 2418, 'pregnant': 2419, 'forgot': 2420, 'obnoxi': 2421, 'midnight': 2422, '17': 2423, 'magazin': 2424, 'carol': 2425, 'garden': 2426, 'inhabit': 2427, 'deeper': 2428, 'slapstick': 2429, 'ticket': 2430, 'restor': 2431, 'brad': 2432, 'lincoln': 2433, 'shoe': 2434, 'devot': 2435, 'incid': 2436, 'guarante': 2437, 'divorc': 2438, 'anticip': 2439, 'lili': 2440, 'benefit': 2441, 'elizabeth': 2442, 'disbelief': 2443, 'sandler': 2444, 'underground': 2445, 'maria': 2446, 'bbc': 2447, 'amazingli': 2448, 'cring': 2449, 'mildli': 2450, 'creation': 2451, 'princip': 2452, 'explod': 2453, 'capit': 2454, 'slave': 2455, 'greater': 2456, 'extraordinari': 2457, 'funnier': 2458, 'introduct': 2459, 'lesli': 2460, 'halfway': 2461, 'enhanc': 2462, 'advantag': 2463, 'transfer': 2464, 'text': 2465, 'wreck': 2466, 'tap': 2467, 'extent': 2468, 'overwhelm': 2469, 'punish': 2470, 'horrif': 2471, 'error': 2472, 'preview': 2473, 'jessica': 2474, 'dynam': 2475, 'deliber': 2476, 'east': 2477, 'plant': 2478, 'lo': 2479, 'lane': 2480, 'vincent': 2481, 'appli': 2482, 'vacat': 2483, 'miller': 2484, 'ensu': 2485, '2000': 2486, 'sophist': 2487, 'miscast': 2488, 'basi': 2489, 'homosexu': 2490, 'bollywood': 2491, 'measur': 2492, 'uncomfort': 2493, 'extend': 2494, 'via': 2495, 'steel': 2496, 'sleazi': 2497, 'mansion': 2498, 'reed': 2499, 'spoken': 2500, 'elev': 2501, 'savag': 2502, 'beer': 2503, 'conceiv': 2504, 'overact': 2505, 'blair': 2506, 'melt': 2507, 'mous': 2508, 'stanley': 2509, 'cathol': 2510, 'hippi': 2511, 'alter': 2512, 'breathtak': 2513, 'goofi': 2514, 'assign': 2515, 'fix': 2516, 'daili': 2517, 'dentist': 2518, 'subsequ': 2519, 'inspector': 2520, 'properli': 2521, 'succe': 2522, 'carpent': 2523, 'nowaday': 2524, 'everyday': 2525, 'oppos': 2526, 'sacrific': 2527, 'burt': 2528, 'circl': 2529, 'massacr': 2530, 'laura': 2531, 'neck': 2532, 'block': 2533, 'fallen': 2534, 'lesser': 2535, 'concert': 2536, 'christi': 2537, 'mob': 2538, 'grey': 2539, 'portrait': 2540, 'access': 2541, 'fay': 2542, 'seagal': 2543, 'pool': 2544, 'sinist': 2545, 'jewish': 2546, 'relax': 2547, 'chees': 2548, 'isol': 2549, 'jake': 2550, 'usa': 2551, 'competit': 2552, 'react': 2553, 'creep': 2554, 'suitabl': 2555, '2006': 2556, 'appal': 2557, 'lyric': 2558, 'spiritu': 2559, 'nonetheless': 2560, 'stink': 2561, 'nine': 2562, 'immens': 2563, 'ironi': 2564, 'chop': 2565, 'needless': 2566, 'adopt': 2567, 'shirt': 2568, 'reduc': 2569, 'rage': 2570, 'nut': 2571, 'showcas': 2572, 'sold': 2573, 'spring': 2574, 'retir': 2575, 'user': 2576, 'luci': 2577, 'franchis': 2578, 'navi': 2579, 'bulli': 2580, 'asham': 2581, 'uninspir': 2582, 'digit': 2583, 'per': 2584, 'nurs': 2585, 'zone': 2586, 'bath': 2587, 'jay': 2588, 'stanwyck': 2589, '2001': 2590, 'amongst': 2591, 'laid': 2592, 'sutherland': 2593, 'oddli': 2594, '1940': 2595, 'broadcast': 2596, 'upper': 2597, 'illustr': 2598, 'throat': 2599, 'aspir': 2600, 'baker': 2601, 'fulfil': 2602, 'stylish': 2603, 'disguis': 2604, 'brando': 2605, 'impli': 2606, 'pound': 2607, 'wwii': 2608, 'neighborhood': 2609, 'endear': 2610, 'nobl': 2611, '18': 2612, 'wanna': 2613, 'em': 2614, 'pride': 2615, 'thief': 2616, 'dinner': 2617, 'shoulder': 2618, 'bett': 2619, 'prop': 2620, 'tens': 2621, '16': 2622, 'diseas': 2623, 'distribut': 2624, 'shift': 2625, 'albeit': 2626, 'bo': 2627, 'coher': 2628, 'cinematograph': 2629, 'rochest': 2630, 'dawn': 2631, 'wash': 2632, 'forti': 2633, 'function': 2634, 'contract': 2635, 'surf': 2636, 'snow': 2637, 'poignant': 2638, 'knife': 2639, 'silenc': 2640, 'rebel': 2641, 'shout': 2642, 'matthau': 2643, 'horrend': 2644, 'henc': 2645, 'silver': 2646, 'cancel': 2647, 'widmark': 2648, 'height': 2649, 'internet': 2650, 'eeri': 2651, 'mindless': 2652, 'duti': 2653, 'derek': 2654, 'reunion': 2655, 'chuck': 2656, 'cannib': 2657, 'proof': 2658, 'heat': 2659, 'instinct': 2660, 'elvira': 2661, 'incoher': 2662, 'mill': 2663, 'neat': 2664, 'elvi': 2665, 'musician': 2666, 'alik': 2667, 'torn': 2668, 'glori': 2669, 'pie': 2670, 'absorb': 2671, 'repetit': 2672, 'etern': 2673, 'innov': 2674, 'premier': 2675, 'spielberg': 2676, 'greatli': 2677, 'precis': 2678, 'bang': 2679, 'trite': 2680, 'nelson': 2681, 'infam': 2682, 'wealthi': 2683, 'blank': 2684, 'fbi': 2685, 'homag': 2686, 'announc': 2687, 'redempt': 2688, 'britain': 2689, 'itali': 2690, 'crisi': 2691, 'horrifi': 2692, 'diamond': 2693, 'burton': 2694, 'lovabl': 2695, 'racism': 2696, 'happili': 2697, 'resolut': 2698, 'dedic': 2699, 'wilder': 2700, 'hammer': 2701, 'chaplin': 2702, 'parallel': 2703, 'helen': 2704, 'flop': 2705, 'pat': 2706, 'ensembl': 2707, 'streisand': 2708, 'conclud': 2709, 'factori': 2710, 'triumph': 2711, 'disagre': 2712, 'broke': 2713, 'carter': 2714, 'st': 2715, 'plastic': 2716, 'oil': 2717, 'mar': 2718, 'cube': 2719, 'chuckl': 2720, 'weight': 2721, 'vega': 2722, 'march': 2723, 'fighter': 2724, 'own': 2725, 'climb': 2726, 'rocket': 2727, 'row': 2728, 'bush': 2729, 'wherea': 2730, 'dane': 2731, 'meaning': 2732, 'unforgett': 2733, 'spare': 2734, 'mst3k': 2735, 'lust': 2736, 'boot': 2737, 'kurt': 2738, 'sensibl': 2739, 'dump': 2740, 'enorm': 2741, 'thug': 2742, 'luca': 2743, 'butt': 2744, 'threat': 2745, 'stress': 2746, 'rap': 2747, 'karloff': 2748, 'bobbi': 2749, 'adequ': 2750, 'dear': 2751, 'engin': 2752, 'arnold': 2753, 'caricatur': 2754, 'difficulti': 2755, 'fifti': 2756, 'brand': 2757, 'swing': 2758, 'fest': 2759, 'secretari': 2760, 'journalist': 2761, 'barri': 2762, 'arrog': 2763, 'hamlet': 2764, 'ego': 2765, 'elabor': 2766, 'flynn': 2767, 'ralph': 2768, 'homeless': 2769, 'polish': 2770, 'arrang': 2771, 'float': 2772, 'unbear': 2773, 'fanci': 2774, 'conspiraci': 2775, 'tool': 2776, 'grate': 2777, 'induc': 2778, 'resort': 2779, 'spike': 2780, 'simpson': 2781, 'puppet': 2782, 'exercis': 2783, 'basement': 2784, 'tribut': 2785, 'muppet': 2786, 'phillip': 2787, 'cruis': 2788, 'choreograph': 2789, 'pig': 2790, 'guilt': 2791, 'boll': 2792, 'ham': 2793, 'tower': 2794, 'scarecrow': 2795, 'toilet': 2796, 'puzzl': 2797, 'ward': 2798, 'layer': 2799, 'file': 2800, 'medium': 2801, 'fianc': 2802, 'item': 2803, 'slip': 2804, 'babe': 2805, '24': 2806, 'editor': 2807, 'document': 2808, 'korean': 2809, 'stan': 2810, 'doc': 2811, 'assur': 2812, 'transit': 2813, 'catherin': 2814, 'superfici': 2815, 'philosoph': 2816, 'librari': 2817, 'persona': 2818, 'spark': 2819, 'minim': 2820, 'orient': 2821, 'territori': 2822, 'larger': 2823, 'slaughter': 2824, 'glover': 2825, 'denzel': 2826, 'inexplic': 2827, 'portion': 2828, 'wolf': 2829, 'pg': 2830, 'owe': 2831, 'shi': 2832, 'sneak': 2833, 'financi': 2834, 'jet': 2835, 'walken': 2836, 'jeremi': 2837, 'boredom': 2838, 'dorothi': 2839, 'curti': 2840, 'ban': 2841, 'backdrop': 2842, 'metaphor': 2843, 'whale': 2844, 'profound': 2845, 'eleph': 2846, 'multi': 2847, 'ambigu': 2848, 'hudson': 2849, 'cusack': 2850, 'notion': 2851, '2005': 2852, 'union': 2853, 'hack': 2854, 'elsewher': 2855, 'ultra': 2856, 'birthday': 2857, 'rave': 2858, 'viru': 2859, 'gadget': 2860, 'stiff': 2861, 'implaus': 2862, 'reader': 2863, 'distanc': 2864, 'newspap': 2865, 'lloyd': 2866, 'afford': 2867, 'urg': 2868, 'poison': 2869, 'deriv': 2870, 'squar': 2871, 'hawk': 2872, '1st': 2873, 'bibl': 2874, 'eva': 2875, 'pad': 2876, 'slight': 2877, 'canada': 2878, 'superhero': 2879, 'disc': 2880, 'eastwood': 2881, 'drown': 2882, 'huh': 2883, 'charisma': 2884, 'health': 2885, 'cure': 2886, 'sadist': 2887, 'restaur': 2888, 'button': 2889, 'heston': 2890, 'spread': 2891, 'essenc': 2892, 'montag': 2893, 'skit': 2894, 'estat': 2895, 'gradual': 2896, 'godfath': 2897, 'lab': 2898, 'fetch': 2899, 'peak': 2900, 'companion': 2901, 'maniac': 2902, 'invest': 2903, 'dealt': 2904, 'muslim': 2905, 'scoobi': 2906, 'servant': 2907, 'kane': 2908, 'miik': 2909, 'tea': 2910, 'alli': 2911, 'countless': 2912, 'cup': 2913, 'gothic': 2914, 'ritter': 2915, 'subtleti': 2916, 'heroic': 2917, 'briefli': 2918, 'salli': 2919, 'electr': 2920, 'elect': 2921, 'charismat': 2922, 'iii': 2923, 'admittedli': 2924, 'reel': 2925, 'resourc': 2926, 'tender': 2927, 'ingredi': 2928, 'nuanc': 2929, 'toss': 2930, 'wannab': 2931, 'grandmoth': 2932, 'neil': 2933, 'bud': 2934, 'cole': 2935, 'shall': 2936, 'mild': 2937, 'pauli': 2938, 'stronger': 2939, 'stood': 2940, 'gate': 2941, 'pit': 2942, 'mafia': 2943, 'dawson': 2944, 'label': 2945, 'reev': 2946, 'punk': 2947, 'carrey': 2948, 'poverti': 2949, 'kubrick': 2950, 'ian': 2951, 'bakshi': 2952, 'smash': 2953, 'tag': 2954, 'updat': 2955, 'useless': 2956, 'cox': 2957, 'smooth': 2958, 'cardboard': 2959, 'assault': 2960, 'outcom': 2961, 'burst': 2962, 'easier': 2963, 'fond': 2964, 'terri': 2965, 'astair': 2966, 'sketch': 2967, 'increasingli': 2968, 'resolv': 2969, 'vari': 2970, 'qualifi': 2971, 'melodramat': 2972, 'divers': 2973, 'coincid': 2974, 'exchang': 2975, '2002': 2976, 'fist': 2977, 'vulner': 2978, 'samurai': 2979, 'rex': 2980, 'be': 2981, 'blast': 2982, 'suspend': 2983, 'luckili': 2984, 'scratch': 2985, 'templ': 2986, 'insert': 2987, 'conveni': 2988, 'brillianc': 2989, 'tame': 2990, 'reynold': 2991, 'farm': 2992, 'meat': 2993, 'ambiti': 2994, 'gotta': 2995, 'hamilton': 2996, 'jami': 2997, 'pin': 2998, 'strictli': 2999, 'soprano': 3000, 'coach': 3001, 'nuclear': 3002, 'seventi': 3003, 'matthew': 3004, 'fisher': 3005, 'walker': 3006, 'instantli': 3007, 'discoveri': 3008, 'recreat': 3009, 'grasp': 3010, 'spooki': 3011, 'ninja': 3012, 'cave': 3013, 'closet': 3014, 'worthless': 3015, 'timeless': 3016, 'convolut': 3017, 'kudo': 3018, 'revers': 3019, 'clock': 3020, 'butcher': 3021, 'monk': 3022, 'eccentr': 3023, 'struck': 3024, 'joey': 3025, 'brosnan': 3026, 'empir': 3027, 'selfish': 3028, 'evok': 3029, 'inconsist': 3030, 'bleak': 3031, 'seller': 3032, 'sidekick': 3033, 'declar': 3034, 'communist': 3035, 'mitchel': 3036, 'clown': 3037, 'wipe': 3038, 'eighti': 3039, 'partli': 3040, 'miracl': 3041, 'fifteen': 3042, 'importantli': 3043, 'pal': 3044, 'sloppi': 3045, 'norman': 3046, 'cliff': 3047, 'gray': 3048, 'debat': 3049, 'farc': 3050, 'aforement': 3051, 'flawless': 3052, 'psychiatrist': 3053, 'superbl': 3054, 'destin': 3055, '45': 3056, 'enthusiast': 3057, 'seed': 3058, 'ho': 3059, 'piano': 3060, 'websit': 3061, 'chew': 3062, 'lifestyl': 3063, 'stoog': 3064, 'cheek': 3065, 'australia': 3066, 'slice': 3067, 'akshay': 3068, 'drivel': 3069, 'anni': 3070, 'kitchen': 3071, 'incompet': 3072, 'soviet': 3073, 'dash': 3074, 'bash': 3075, 'wrestl': 3076, 'regardless': 3077, 'emili': 3078, 'abc': 3079, 'pressur': 3080, 'wick': 3081, 'dire': 3082, 'directori': 3083, 'splatter': 3084, 'seduc': 3085, 'boil': 3086, 'suppli': 3087, 'beaten': 3088, 'glow': 3089, 'dave': 3090, 'cameron': 3091, 'chapter': 3092, 'increas': 3093, 'jar': 3094, 'pleasantli': 3095, 'cagney': 3096, 'artifici': 3097, 'judi': 3098, 'recov': 3099, 'prize': 3100, 'ken': 3101, 'cia': 3102, 'duo': 3103, 'mann': 3104, 'flower': 3105, 'curios': 3106, 'distant': 3107, 'lou': 3108, 'helicopt': 3109, 'blob': 3110, 'doo': 3111, 'perri': 3112, 'web': 3113, 'psychot': 3114, 'eleg': 3115, 'glenn': 3116, 'panic': 3117, 'splendid': 3118, 'favour': 3119, 'ranger': 3120, 'ellen': 3121, 'francisco': 3122, 'turner': 3123, 'craig': 3124, 'combat': 3125, 'drunken': 3126, 'goldberg': 3127, 'craven': 3128, 'hop': 3129, 'laurel': 3130, 'plausibl': 3131, 'hatr': 3132, 'rid': 3133, 'graduat': 3134, 'slightest': 3135, 'shortli': 3136, 'wizard': 3137, 'ruth': 3138, 'fx': 3139, 'flip': 3140, 'alexand': 3141, 'greek': 3142, 'min': 3143, 'philosophi': 3144, 'falk': 3145, '20th': 3146, 'modesti': 3147, 'gentl': 3148, 'gandhi': 3149, 'jealou': 3150, 'futurist': 3151, 'ocean': 3152, 'fund': 3153, 'knight': 3154, 'lend': 3155, 'harm': 3156, 'preciou': 3157, 'legal': 3158, 'tall': 3159, 'unpleas': 3160, 'holi': 3161, 'we': 3162, 'felix': 3163, 'dracula': 3164, 'manhattan': 3165, 'explicit': 3166, 'forbidden': 3167, 'scientif': 3168, 'reviv': 3169, 'mock': 3170, 'digniti': 3171, 'nod': 3172, 'overdon': 3173, 'tank': 3174, 'bless': 3175, 'ami': 3176, 'childish': 3177, 'thread': 3178, 'giallo': 3179, 'unwatch': 3180, '2004': 3181, 'elderli': 3182, 'awaken': 3183, 'awe': 3184, 'eve': 3185, 'torment': 3186, '99': 3187, 'yesterday': 3188, 'mel': 3189, 'pirat': 3190, 'repeatedli': 3191, 'broad': 3192, 'margaret': 3193, 'thick': 3194, 'fever': 3195, 'verhoeven': 3196, 'nerv': 3197, 'automat': 3198, 'rivet': 3199, 'ambit': 3200, 'kay': 3201, 'custom': 3202, 'absenc': 3203, 'lean': 3204, 'eas': 3205, 'launch': 3206, 'royal': 3207, 'politician': 3208, 'bin': 3209, 'ah': 3210, 'roman': 3211, 'uniform': 3212, 'stiller': 3213, 'timothi': 3214, 'romero': 3215, 'griffith': 3216, 'acclaim': 3217, 'publish': 3218, 'phrase': 3219, 'crook': 3220, 'homicid': 3221, 'antic': 3222, 'wallac': 3223, 'gabriel': 3224, 'termin': 3225, 'pulp': 3226, 'warren': 3227, 'darker': 3228, 'foul': 3229, 'purpl': 3230, 'bathroom': 3231, 'stinker': 3232, 'sunshin': 3233, 'tomato': 3234, 'transport': 3235, 'pierc': 3236, 'saint': 3237, 'juvenil': 3238, 'horrid': 3239, 'marin': 3240, 'sixti': 3241, 'revolutionari': 3242, 'awak': 3243, 'kenneth': 3244, 'pray': 3245, 'q': 3246, 'karen': 3247, 'rambo': 3248, 'packag': 3249, 'choreographi': 3250, 'viciou': 3251, 'hollow': 3252, 'ought': 3253, '2003': 3254, 'li': 3255, 'contrari': 3256, 'eyr': 3257, 'album': 3258, 'brazil': 3259, 'evolv': 3260, 'coloni': 3261, 'prom': 3262, 'donna': 3263, 'option': 3264, 'boast': 3265, 'kapoor': 3266, 'mummi': 3267, 'ireland': 3268, 'stole': 3269, 'mildr': 3270, 'dose': 3271, 'blade': 3272, 'candid': 3273, 'nerd': 3274, 'overr': 3275, 'beatti': 3276, 'defi': 3277, 'conserv': 3278, 'ramon': 3279, 'twelv': 3280, 'protest': 3281, 'flame': 3282, 'kirk': 3283, 'global': 3284, 'confirm': 3285, 'altman': 3286, 'detract': 3287, 'fulci': 3288, 'trio': 3289, 'funer': 3290, 'natali': 3291, 'astonish': 3292, 'jazz': 3293, 'collabor': 3294, 'yellow': 3295, 'blake': 3296, 'destini': 3297, 'nicholson': 3298, 'racial': 3299, 'tommi': 3300, 'shade': 3301, 'bull': 3302, 'leap': 3303, 'whip': 3304, 'bottl': 3305, 'mystic': 3306, 'audio': 3307, 'spit': 3308, 'delici': 3309, 'enterpris': 3310, 'visibl': 3311, 'meaningless': 3312, 'vivid': 3313, 'merci': 3314, 'inherit': 3315, 'swedish': 3316, 'staff': 3317, 'todd': 3318, 'threw': 3319, 'fonda': 3320, 'reunit': 3321, 'enchant': 3322, 'altogeth': 3323, 'popcorn': 3324, 'neo': 3325, 'pseudo': 3326, 'bedroom': 3327, 'adolesc': 3328, 'harder': 3329, 'jew': 3330, 'decor': 3331, 'exhibit': 3332, 'respond': 3333, 'lawrenc': 3334, 'moodi': 3335, 'fanat': 3336, 'bust': 3337, 'await': 3338, 'leonard': 3339, 'lemmon': 3340, 'befriend': 3341, 'suspici': 3342, 'roommat': 3343, 'reserv': 3344, 'uneven': 3345, 'tip': 3346, 'synopsi': 3347, 'crocodil': 3348, 'kennedi': 3349, 'voight': 3350, 'wire': 3351, 'atlanti': 3352, 'madonna': 3353, 'edi': 3354, 'ruthless': 3355, 'unsettl': 3356, 'rural': 3357, 'centr': 3358, 'audit': 3359, '2007': 3360, 'bradi': 3361, 'incident': 3362, 'garner': 3363, 'clumsi': 3364, 'bargain': 3365, 'ventur': 3366, 'voyag': 3367, 'holli': 3368, 'chao': 3369, 'abysm': 3370, 'dimens': 3371, 'carl': 3372, 'clint': 3373, 'palma': 3374, 'bold': 3375, 'characterist': 3376, 'imperson': 3377, 'acknowledg': 3378, 'cuba': 3379, 'poetic': 3380, 'lit': 3381, 'trail': 3382, 'cari': 3383, 'versu': 3384, 'neglect': 3385, 'nearbi': 3386, 'elimin': 3387, 'cd': 3388, 'tiger': 3389, 'echo': 3390, 'hart': 3391, '2nd': 3392, 'humili': 3393, 'wealth': 3394, 'mall': 3395, 'troop': 3396, 'daddi': 3397, 'immigr': 3398, 'timon': 3399, 'ant': 3400, 'domest': 3401, 'paus': 3402, 'celluloid': 3403, 'marshal': 3404, 'jeffrey': 3405, 'mistaken': 3406, 'infect': 3407, 'solo': 3408, 'saga': 3409, 'pun': 3410, 'collaps': 3411, 'repuls': 3412, 'homer': 3413, 'mickey': 3414, 'prejudic': 3415, 'chest': 3416, '1996': 3417, 'apolog': 3418, 'olivi': 3419, 'coffe': 3420, 'hbo': 3421, 'inan': 3422, 'coat': 3423, 'promin': 3424, 'inappropri': 3425, 'undoubtedli': 3426, 'tribe': 3427, 'cake': 3428, 'interrupt': 3429, 'gear': 3430, 'milk': 3431, 'leon': 3432, 'assembl': 3433, 'harvey': 3434, 'pant': 3435, 'equip': 3436, 'sore': 3437, 'ginger': 3438, 'trace': 3439, 'exot': 3440, 'aveng': 3441, 'solut': 3442, 'institut': 3443, 'humbl': 3444, 'florida': 3445, 'vulgar': 3446, 'colonel': 3447, 'pot': 3448, 'maggi': 3449, 'devast': 3450, 'jenni': 3451, 'consum': 3452, 'retain': 3453, 'embrac': 3454, 'highest': 3455, 'instant': 3456, 'pen': 3457, 'airplan': 3458, 'furthermor': 3459, 'colleagu': 3460, 'brooklyn': 3461, 'primari': 3462, 'polanski': 3463, '1999': 3464, 'descend': 3465, 'wive': 3466, 'smaller': 3467, 'rick': 3468, 'dutch': 3469, 'seduct': 3470, 'disabl': 3471, 'outer': 3472, 'bowl': 3473, 'poke': 3474, 'strain': 3475, 'cope': 3476, 'principl': 3477, 'illog': 3478, '3rd': 3479, 'ya': 3480, 'sale': 3481, 'godzilla': 3482, 'dian': 3483, 'linda': 3484, 'gender': 3485, 'devoid': 3486, 'secondli': 3487, 'mixtur': 3488, 'scope': 3489, 'beneath': 3490, 'inferior': 3491, 'blatant': 3492, 'hal': 3493, 'gloriou': 3494, 'rabbit': 3495, 'bubbl': 3496, 'predecessor': 3497, 'lol': 3498, 'dud': 3499, 'yard': 3500, 'cue': 3501, 'dive': 3502, 'glamor': 3503, 'gundam': 3504, 'primarili': 3505, 'vast': 3506, 'invas': 3507, 'aggress': 3508, 'alfr': 3509, 'museum': 3510, 'alert': 3511, 'countrysid': 3512, 'pearl': 3513, 'talki': 3514, 'trademark': 3515, 'myer': 3516, 'grinch': 3517, 'z': 3518, 'et': 3519, 'shelf': 3520, 'breed': 3521, 'casual': 3522, 'april': 3523, 'disjoint': 3524, 'streep': 3525, 'shirley': 3526, 'simplist': 3527, 'arab': 3528, 'domino': 3529, 'hideou': 3530, 'senseless': 3531, 'garbo': 3532, 'robberi': 3533, 'vanish': 3534, 'hardcor': 3535, 'disgrac': 3536, 'khan': 3537, 'oz': 3538, 'stellar': 3539, 'experiment': 3540, 'boom': 3541, 'acid': 3542, 'loyal': 3543, 'obtain': 3544, 'hopeless': 3545, 'defens': 3546, 'stir': 3547, 'illeg': 3548, 'maci': 3549, 'unhappi': 3550, 'stack': 3551, 'mail': 3552, 'rendit': 3553, 'sh': 3554, 'applaud': 3555, 'uwe': 3556, 'slide': 3557, 'robinson': 3558, 'mayor': 3559, 'wont': 3560, 'grandfath': 3561, 'rifl': 3562, 'soccer': 3563, 'craze': 3564, 'psychic': 3565, 'blew': 3566, 'incomprehens': 3567, 'scroog': 3568, 'dicken': 3569, 'spider': 3570, 'counter': 3571, 'tempt': 3572, 'diana': 3573, 'span': 3574, 'topless': 3575, 'emphasi': 3576, 'recruit': 3577, 'declin': 3578, 'berlin': 3579, 'fri': 3580, 'amanda': 3581, 'dismiss': 3582, 'hartley': 3583, 'tenant': 3584, 'sibl': 3585, 'riot': 3586, 'bitch': 3587, 'wet': 3588, 'trashi': 3589, 'porno': 3590, 'resurrect': 3591, 'parad': 3592, 'goer': 3593, 'revolt': 3594, 'ethnic': 3595, 'ration': 3596, 'intim': 3597, 'shaw': 3598, 'sympath': 3599, 'shed': 3600, 'justin': 3601, 'niro': 3602, 'faster': 3603, 'woo': 3604, 'lumet': 3605, 'steam': 3606, 'partial': 3607, 'eager': 3608, 'nephew': 3609, 'honesti': 3610, 'patriot': 3611, 'wheel': 3612, 'biographi': 3613, 'mario': 3614, 'immort': 3615, 'farmer': 3616, 'unreal': 3617, 'wendi': 3618, 'dealer': 3619, 'commend': 3620, 'ensur': 3621, 'andr': 3622, 'gap': 3623, '00': 3624, 'region': 3625, 'jonathan': 3626, 'weakest': 3627, 'slick': 3628, 'feminist': 3629, 'hopper': 3630, 'lena': 3631, 'choru': 3632, 'enlighten': 3633, 'ballet': 3634, 'rider': 3635, 'hesit': 3636, 'worm': 3637, 'confin': 3638, 'hung': 3639, 'skull': 3640, 'repress': 3641, 'similarli': 3642, 'owen': 3643, 'franco': 3644, 'kingdom': 3645, 'charlott': 3646, 'properti': 3647, 'composit': 3648, 'morri': 3649, 'leo': 3650, 'wore': 3651, 'victori': 3652, 'blunt': 3653, 'safeti': 3654, 'sappi': 3655, 'util': 3656, 'sandra': 3657, 'psychopath': 3658, 'mutant': 3659, 'vice': 3660, 'nostalg': 3661, 'prequel': 3662, 'snap': 3663, 'macarthur': 3664, 'compass': 3665, 'deed': 3666, 'drain': 3667, 'acquir': 3668, 'del': 3669, 'bergman': 3670, 'rambl': 3671, 'bonu': 3672, 'recycl': 3673, 'latin': 3674, 'bumbl': 3675, 'drum': 3676, 'heartbreak': 3677, 'dust': 3678, '1972': 3679, 'valuabl': 3680, 'tail': 3681, 'strand': 3682, 'speci': 3683, 'tad': 3684, 'nervou': 3685, 'rope': 3686, 'rocki': 3687, 'despair': 3688, 'kyle': 3689, 'exit': 3690, 'farrel': 3691, 'dalton': 3692, 'campbel': 3693, 'whoopi': 3694, 'snl': 3695, 'bow': 3696, 'miseri': 3697, 'compens': 3698, 'montana': 3699, 'thru': 3700, 'repli': 3701, 'pattern': 3702, 'emperor': 3703, 'hyde': 3704, 'cg': 3705, 'martian': 3706, 'orson': 3707, 'downhil': 3708, 'carradin': 3709, 'romp': 3710, 'mistress': 3711, 'roth': 3712, 'wacki': 3713, 'contempl': 3714, 'oppress': 3715, 'tonight': 3716, 'slug': 3717, 'radic': 3718, 'gal': 3719, 'da': 3720, 'pour': 3721, 'chess': 3722, 'percept': 3723, 'rapist': 3724, '35': 3725, 'gimmick': 3726, 'rotten': 3727, 'bleed': 3728, 'airport': 3729, 'olli': 3730, 'champion': 3731, 'taught': 3732, 'arc': 3733, 'dazzl': 3734, 'belt': 3735, 'slash': 3736, 'tooth': 3737, 'pervert': 3738, 'programm': 3739, 'preach': 3740, '1983': 3741, 'pervers': 3742, 'edgar': 3743, 'paltrow': 3744, 'tackl': 3745, 'mislead': 3746, 'attorney': 3747, 'pursuit': 3748, 'stilt': 3749, 'arguabl': 3750, 'melodi': 3751, 'banal': 3752, 'unpredict': 3753, 'shelley': 3754, 'heal': 3755, 'passeng': 3756, 'poem': 3757, 'dixon': 3758, 'plight': 3759, 'duval': 3760, 'orang': 3761, 'cleverli': 3762, 'rubi': 3763, 'vengeanc': 3764, 'vocal': 3765, 'raymond': 3766, 'mesmer': 3767, 'virginia': 3768, 'franki': 3769, 'maid': 3770, 'closest': 3771, 'tiresom': 3772, 'uplift': 3773, 'bela': 3774, 'sensat': 3775, 'graham': 3776, 'employe': 3777, 'conneri': 3778, 'gambl': 3779, 'marti': 3780, 'chicken': 3781, 'swallow': 3782, 'habit': 3783, 'calm': 3784, 'numb': 3785, '1968': 3786, 'scottish': 3787, 'secretli': 3788, 'monologu': 3789, 'convincingli': 3790, 'abraham': 3791, 'outing': 3792, 'suffic': 3793, 'crystal': 3794, 'gerard': 3795, 'giggl': 3796, 'bay': 3797, 'pokemon': 3798, 'climact': 3799, 'amitabh': 3800, 'lundgren': 3801, 'quarter': 3802, 'engross': 3803, 'profan': 3804, 'yawn': 3805, 'sirk': 3806, 'extens': 3807, 'volum': 3808, 'tube': 3809, 'paranoia': 3810, 'inject': 3811, 'mute': 3812, 'clone': 3813, 'whine': 3814, 'iran': 3815, 'chicago': 3816, 'grotesqu': 3817, 'abort': 3818, 'backward': 3819, 'bend': 3820, 'earl': 3821, 'dispos': 3822, 'taxi': 3823, 'nichola': 3824, 'im': 3825, 'trend': 3826, 'franci': 3827, 'plod': 3828, 'junior': 3829, 'richardson': 3830, 'lowest': 3831, 'ethan': 3832, 'austen': 3833, 'poetri': 3834, 'profess': 3835, 'expand': 3836, 'underst': 3837, 'spock': 3838, 'meander': 3839, 'fed': 3840, 'surpass': 3841, 'septemb': 3842, 'linger': 3843, 'frankenstein': 3844, 'hum': 3845, 'cannon': 3846, 'der': 3847, 'tourist': 3848, 'myth': 3849, 'descent': 3850, 'lure': 3851, 'rubber': 3852, 'nostalgia': 3853, 'econom': 3854, 'household': 3855, 'waitress': 3856, 'greedi': 3857, 'mundan': 3858, 'catchi': 3859, 'simplic': 3860, 'rant': 3861, 'literatur': 3862, 'dysfunct': 3863, 'sue': 3864, 'eugen': 3865, 'spoke': 3866, 'instrument': 3867, 'compliment': 3868, 'stallon': 3869, 'muddl': 3870, 'duck': 3871, 'firstli': 3872, 'carel': 3873, 'cent': 3874, 'lang': 3875, 'randi': 3876, 'phantom': 3877, 'hello': 3878, 'stale': 3879, 'occupi': 3880, 'coast': 3881, 'alongsid': 3882, 'deaf': 3883, 'omen': 3884, 'map': 3885, 'eaten': 3886, 'phoni': 3887, 'irrelev': 3888, 'louis': 3889, 'furi': 3890, 'recognis': 3891, 'equival': 3892, 'june': 3893, 'crucial': 3894, 'dictat': 3895, 'bacal': 3896, 'mankind': 3897, 'flee': 3898, 'mortal': 3899, 'recognit': 3900, 'dement': 3901, 'sissi': 3902, 'damon': 3903, 'insur': 3904, 'molli': 3905, 'reign': 3906, 'rude': 3907, 'freez': 3908, 'drake': 3909, 'likewis': 3910, 'newli': 3911, 'labor': 3912, 'onlin': 3913, 'heel': 3914, 'bike': 3915, 'daisi': 3916, 'cyborg': 3917, 'loyalti': 3918, 'damm': 3919, 'distinguish': 3920, 'buffalo': 3921, 'bump': 3922, 'dreari': 3923, '1973': 3924, 'blackmail': 3925, 'lengthi': 3926, 'biko': 3927, 'grayson': 3928, 'rooney': 3929, 'ashley': 3930, 'wisdom': 3931, 'antwon': 3932, 'twilight': 3933, 'pink': 3934, 'approv': 3935, 'basketbal': 3936, 'startl': 3937, 'attribut': 3938, 'proce': 3939, 'exposur': 3940, 'incorpor': 3941, 'analysi': 3942, 'prey': 3943, 'baddi': 3944, 'barrymor': 3945, 'chronicl': 3946, 'emphas': 3947, 'unorigin': 3948, 'inher': 3949, 'sailor': 3950, 'provoc': 3951, 'keith': 3952, 'boxer': 3953, 'worn': 3954, 'tunnel': 3955, 'nineti': 3956, 'butler': 3957, 'ridden': 3958, 'interior': 3959, 'vein': 3960, 'fleet': 3961, 'bunni': 3962, 'hypnot': 3963, 'unrel': 3964, 'julian': 3965, 'nicol': 3966, 'undeni': 3967, 'othello': 3968, 'substitut': 3969, 'er': 3970, 'robbin': 3971, 'stalker': 3972, 'predat': 3973, 'millionair': 3974, 'mighti': 3975, 'indiffer': 3976, 'walsh': 3977, 'underli': 3978, 'drift': 3979, 'meg': 3980, 'improvis': 3981, 'barrel': 3982, 'condemn': 3983, 'degrad': 3984, 'simmon': 3985, 'belushi': 3986, 'mormon': 3987, 'elm': 3988, 'meyer': 3989, 'carla': 3990, 'unawar': 3991, 'watson': 3992, 'firm': 3993, 'errol': 3994, 'greed': 3995, 'warmth': 3996, 'disord': 3997, 'enthusiasm': 3998, 'lampoon': 3999, 'roof': 4000, 'hay': 4001, 'vital': 4002, 'shove': 4003, 'palac': 4004, 'priceless': 4005, 'novak': 4006, 'marion': 4007, 'alarm': 4008, 'reid': 4009, 'dolph': 4010, 'nyc': 4011, '3d': 4012, 'edgi': 4013, 'mtv': 4014, 'exquisit': 4015, 'agenda': 4016, 'rukh': 4017, 'alison': 4018, 'peril': 4019, 'minimum': 4020, 'showdown': 4021, 'randomli': 4022, 'sergeant': 4023, 'cassidi': 4024, 'orlean': 4025, 'iraq': 4026, 'glanc': 4027, 'distort': 4028, 'petti': 4029, 'ponder': 4030, 'israel': 4031, 'angela': 4032, 'coup': 4033, 'nun': 4034, 'what': 4035, 'campaign': 4036, 'profit': 4037, '1933': 4038, 'pamela': 4039, 'unleash': 4040, 'drip': 4041, 'championship': 4042, 'eastern': 4043, 'valentin': 4044, 'simultan': 4045, 'spain': 4046, 'peck': 4047, '13th': 4048, 'testament': 4049, 'session': 4050, 'crown': 4051, 'preserv': 4052, 'thompson': 4053, 'gestur': 4054, 'beatl': 4055, 'zizek': 4056, 'crow': 4057, 'jan': 4058, 'valley': 4059, 'empathi': 4060, 'travesti': 4061, 'scotland': 4062, 'perpetu': 4063, 'brenda': 4064, 'gentleman': 4065, 'restrain': 4066, 'stake': 4067, 'din': 4068, 'unimagin': 4069, 'cream': 4070, 'bro': 4071, 'quinn': 4072, 'miyazaki': 4073, 'rout': 4074, 'crawl': 4075, 'climat': 4076, 'calib': 4077, 'represent': 4078, 'regist': 4079, 'cooki': 4080, 'exposit': 4081, '1984': 4082, 'fido': 4083, 'kurosawa': 4084, 'han': 4085, 'realm': 4086, 'buster': 4087, 'mon': 4088, 'stroke': 4089, 'wig': 4090, 'reson': 4091, 'contradict': 4092, 'shootout': 4093, 'sabrina': 4094, 'ross': 4095, 'abomin': 4096, 'cloud': 4097, 'businessman': 4098, 'shaki': 4099, 'absent': 4100, 'sucker': 4101, 'perceiv': 4102, 'dana': 4103, 'ustinov': 4104, 'delic': 4105, 'darren': 4106, 'unsatisfi': 4107, 'tacki': 4108, 'censor': 4109, 'pole': 4110, 'mclaglen': 4111, '1987': 4112, 'passabl': 4113, 'derang': 4114, 'crawford': 4115, 'demis': 4116, 'compromis': 4117, 'shoddi': 4118, 'warrant': 4119, 'meryl': 4120, 'monoton': 4121, 'wax': 4122, 'josh': 4123, 'sammi': 4124, 'unseen': 4125, 'femm': 4126, 'traumat': 4127, 'geek': 4128, 'painter': 4129, 'baldwin': 4130, 'spacey': 4131, 'pretens': 4132, 'stargat': 4133, 'distress': 4134, 'greg': 4135, '1997': 4136, 'fuller': 4137, 'soderbergh': 4138, 'fenc': 4139, 'unravel': 4140, 'deceas': 4141, 'kumar': 4142, 'correctli': 4143, 'deniro': 4144, 'fog': 4145, '1993': 4146, 'furiou': 4147, 'wholli': 4148, 'clash': 4149, 'expedit': 4150, 'tarantino': 4151, 'accuraci': 4152, 'anchor': 4153, 'polici': 4154, 'reluct': 4155, 'valid': 4156, 'jewel': 4157, 'seal': 4158, 'primit': 4159, 'exclus': 4160, 'click': 4161, 'verbal': 4162, 'judgment': 4163, 'uncov': 4164, 'tech': 4165, 'nathan': 4166, 'sid': 4167, 'austin': 4168, 'dee': 4169, 'norm': 4170, 'antonioni': 4171, 'enforc': 4172, 'alec': 4173, 'wretch': 4174, 'seldom': 4175, 'hallucin': 4176, 'debt': 4177, 'darn': 4178, 'tax': 4179, 'sheet': 4180, '1995': 4181, 'temper': 4182, 'sand': 4183, '2008': 4184, 'behold': 4185, 'roller': 4186, 'shanghai': 4187, 'slam': 4188, 'fought': 4189, 'vanc': 4190, 'unfair': 4191, '1971': 4192, 'fart': 4193, 'murray': 4194, 'pocket': 4195, 'patienc': 4196, 'fabric': 4197, 'malon': 4198, 'conduct': 4199, 'joel': 4200, 'mode': 4201, 'nicola': 4202, 'bake': 4203, 'sunni': 4204, 'sustain': 4205, 'dreck': 4206, 'wang': 4207, 'crippl': 4208, 'trait': 4209, 'ritual': 4210, 'logan': 4211, 'clerk': 4212, '3000': 4213, 'shell': 4214, 'outlin': 4215, 'legaci': 4216, 'phil': 4217, 'bias': 4218, 'helpless': 4219, 'despis': 4220, 'clau': 4221, 'preston': 4222, 'critiqu': 4223, 'divid': 4224, 'exhaust': 4225, 'technicolor': 4226, 'runner': 4227, 'conscious': 4228, 'rita': 4229, 'canyon': 4230, 'bridget': 4231, 'squad': 4232, 'scriptwrit': 4233, 'stark': 4234, 'robber': 4235, 'fundament': 4236, 'guitar': 4237, 'penni': 4238, 'stuart': 4239, 'preposter': 4240, 'isabel': 4241, 'pete': 4242, 'tactic': 4243, 'grief': 4244, 'schedul': 4245, 'sweep': 4246, 'soup': 4247, 'kansa': 4248, 'sugar': 4249, 'delv': 4250, 'lacklust': 4251, 'jacket': 4252, 'rear': 4253, 'culmin': 4254, 'rehash': 4255, 'palanc': 4256, 'drove': 4257, 'russia': 4258, 'downey': 4259, 'marc': 4260, 'gregori': 4261, 'unexpectedli': 4262, 'bloom': 4263, 'flair': 4264, 'implic': 4265, 'liberti': 4266, 'cigarett': 4267, 'propos': 4268, 'restrict': 4269, 'inabl': 4270, 'agenc': 4271, 'consciou': 4272, 'invad': 4273, 'newman': 4274, 'jodi': 4275, 'passag': 4276, 'boyl': 4277, 'alley': 4278, 'vomit': 4279, 'sniper': 4280, 'alicia': 4281, 'sentinel': 4282, 'connor': 4283, '22': 4284, 'tendenc': 4285, 'kolchak': 4286, 'rampag': 4287, 'feat': 4288, 'lush': 4289, 'behaviour': 4290, 'arrow': 4291, 'chainsaw': 4292, 'improb': 4293, 'sharon': 4294, 'mccoy': 4295, 'delet': 4296, 'horn': 4297, 'vet': 4298, 'awhil': 4299, 'tripe': 4300, 'rod': 4301, 'cap': 4302, 'aesthet': 4303, 'rehears': 4304, 'pale': 4305, 'yeti': 4306, 'wrench': 4307, 'asylum': 4308, '1936': 4309, 'ladder': 4310, 'karl': 4311, 'foxx': 4312, 'bacon': 4313, '1978': 4314, 'wagner': 4315, 'suspicion': 4316, 'conscienc': 4317, 'aristocrat': 4318, 'stream': 4319, 'amazon': 4320, 'tasteless': 4321, 'tomorrow': 4322, 'loneli': 4323, 'wildli': 4324, 'elit': 4325, 'weav': 4326, 'shortcom': 4327, 'coaster': 4328, 'financ': 4329, 'filler': 4330, 'underneath': 4331, 'el': 4332, 'hackney': 4333, 'hulk': 4334, 'newcom': 4335, 'suffici': 4336, 'prank': 4337, 'rumor': 4338, 'paradis': 4339, 'basing': 4340, 'scoop': 4341, '19th': 4342, 'fright': 4343, 'thunderbird': 4344, 'lurk': 4345, 'paramount': 4346, 'spice': 4347, 'hungri': 4348, 'minu': 4349, 'rhythm': 4350, 'visitor': 4351, 'globe': 4352, '1988': 4353, 'sung': 4354, '1920': 4355, 'immers': 4356, 'dirt': 4357, 'standout': 4358, 'recogniz': 4359, 'choppi': 4360, '1939': 4361, 'posey': 4362, 'tierney': 4363, 'entranc': 4364, 'brit': 4365, 'abrupt': 4366, 'ingeni': 4367, 'impos': 4368, 'naughti': 4369, 'lectur': 4370, 'chavez': 4371, 'bread': 4372, 'iv': 4373, 'heist': 4374, 'atroc': 4375, 'wwe': 4376, 'minist': 4377, 'chamberlain': 4378, 'leigh': 4379, 'ram': 4380, 'hopkin': 4381, 'cancer': 4382, '75': 4383, 'springer': 4384, 'straightforward': 4385, 'en': 4386, 'teas': 4387, 'secondari': 4388, 'quietli': 4389, 'literari': 4390, 'worship': 4391, 'rub': 4392, 'beverli': 4393, 'smell': 4394, 'couch': 4395, 'counterpart': 4396, 'paxton': 4397, 'penn': 4398, 'grudg': 4399, '1989': 4400, 'inmat': 4401, 'curli': 4402, 'misguid': 4403, 'laurenc': 4404, 'duel': 4405, 'watcher': 4406, 'sublim': 4407, 'bernard': 4408, 'nolan': 4409, 'heartfelt': 4410, 'moreov': 4411, 'injuri': 4412, 'enthral': 4413, 'quaid': 4414, 'cattl': 4415, 'yearn': 4416, 'sassi': 4417, 'nemesi': 4418, 'geni': 4419, 'attenborough': 4420, 'net': 4421, 'esther': 4422, 'entitl': 4423, 'policeman': 4424, 'missil': 4425, 'transcend': 4426, 'variat': 4427, 'morbid': 4428, 'convert': 4429, '1986': 4430, 'ace': 4431, 'clan': 4432, 'lindsay': 4433, 'skeptic': 4434, 'ratso': 4435, 'bean': 4436, 'unexplain': 4437, 'cruelti': 4438, 'obstacl': 4439, 'grin': 4440, 'puppi': 4441, 'bye': 4442, 'rosemari': 4443, 'egg': 4444, 'kidman': 4445, 'steadi': 4446, 'graini': 4447, 'diari': 4448, 'setup': 4449, 'hopelessli': 4450, 'facil': 4451, 'out': 4452, 'tyler': 4453, 'poe': 4454, 'uncut': 4455, 'enabl': 4456, '1979': 4457, 'characteris': 4458, 'reliabl': 4459, 'hk': 4460, 'mytholog': 4461, 'youngest': 4462, 'moder': 4463, 'buzz': 4464, 'kitti': 4465, 'spiral': 4466, 'brood': 4467, 'vader': 4468, 'dont': 4469, 'carlito': 4470, 'artsi': 4471, 'hain': 4472, 'oblig': 4473, 'niec': 4474, 'hammi': 4475, 'exterior': 4476, 'christin': 4477, 'preming': 4478, 'underworld': 4479, 'decept': 4480, 'effici': 4481, 'clueless': 4482, 'baffl': 4483, 'bronson': 4484, 'gillian': 4485, 'patricia': 4486, 'martha': 4487, 'narrow': 4488, 'athlet': 4489, 'fuel': 4490, '1969': 4491, 'kline': 4492, 'acquaint': 4493, 'disastr': 4494, 'heap': 4495, 'brendan': 4496, 'bewar': 4497, 'gina': 4498, 'bounc': 4499, 'sweat': 4500, 'weather': 4501, 'spontan': 4502, 'despic': 4503, 'mermaid': 4504, 'virtu': 4505, 'sleepwalk': 4506, 'goof': 4507, 'taboo': 4508, 'biker': 4509, 'dilemma': 4510, 'circu': 4511, 'shatter': 4512, 'preachi': 4513, 'trigger': 4514, 'harmless': 4515, 'injur': 4516, 'candl': 4517, 'renaiss': 4518, 'astound': 4519, 'loath': 4520, 'mayhem': 4521, '73': 4522, 'viewpoint': 4523, 'lester': 4524, 'angst': 4525, 'housewif': 4526, 'dandi': 4527, 'insipid': 4528, 'loi': 4529, 'uh': 4530, 'hepburn': 4531, '19': 4532, 'outlaw': 4533, 'tick': 4534, 'sooner': 4535, 'suprem': 4536, 'headach': 4537, 'scar': 4538, 'rome': 4539, 'enlist': 4540, 'fontain': 4541, 'analyz': 4542, 'stimul': 4543, 'guin': 4544, 'gere': 4545, 'surgeri': 4546, 'ebert': 4547, 'immatur': 4548, 'phenomenon': 4549, 'tripl': 4550, 'spade': 4551, 'stair': 4552, 'fluff': 4553, 'camcord': 4554, 'filth': 4555, 'sox': 4556, 'cassavet': 4557, 'hostag': 4558, 'idol': 4559, 'dish': 4560, 'hooker': 4561, 'foolish': 4562, 'dismal': 4563, 'salt': 4564, 'oldest': 4565, 'whore': 4566, 'overlong': 4567, 'hokey': 4568, 'boston': 4569, 'amor': 4570, 'glorifi': 4571, 'steer': 4572, 'scorses': 4573, 'redund': 4574, 'intric': 4575, 'slimi': 4576, 'bent': 4577, 'claustrophob': 4578, 'contempt': 4579, 'ariel': 4580, 'macho': 4581, 'zoom': 4582, 'corbett': 4583, 'conquer': 4584, 'transplant': 4585, 'nolt': 4586, 'cush': 4587, 'remad': 4588, 'messi': 4589, 'shred': 4590, 'spree': 4591, 'widescreen': 4592, 'spinal': 4593, 'preced': 4594, 'cow': 4595, 'mount': 4596, 'obligatori': 4597, 'muscl': 4598, 'faint': 4599, 'assert': 4600, 'beard': 4601, 'keen': 4602, 'dwarf': 4603, 'flag': 4604, 'corman': 4605, 'mutual': 4606, 'zane': 4607, 'shield': 4608, 'proport': 4609, 'fascist': 4610, 'schlock': 4611, 'down': 4612, 'harold': 4613, '1976': 4614, 'antagonist': 4615, 'trivia': 4616, 'rhyme': 4617, 'flashi': 4618, 'gabl': 4619, 'margin': 4620, 'perman': 4621, 'joker': 4622, 'flirt': 4623, 'radiat': 4624, 'strongest': 4625, '1981': 4626, 'cohen': 4627, 'gasp': 4628, 'frantic': 4629, 'naschi': 4630, 'astronaut': 4631, 'alvin': 4632, '28': 4633, 'divin': 4634, 'carey': 4635, 'flock': 4636, 'strive': 4637, 'fishburn': 4638, 'archiv': 4639, 'off': 4640, 'bitten': 4641, 'www': 4642, 'hara': 4643, 'triangl': 4644, 'mobil': 4645, 'interestingli': 4646, 'departur': 4647, 'resum': 4648, 'repris': 4649, 'claud': 4650, 'brush': 4651, 'barn': 4652, 'someday': 4653, 'raj': 4654, 'discern': 4655, 'instruct': 4656, 'persuad': 4657, 'bachelor': 4658, 'wield': 4659, 'inflict': 4660, 'boob': 4661, 'danish': 4662, 'deer': 4663, 'scandal': 4664, 'info': 4665, 'vaniti': 4666, '1945': 4667, 'aborigin': 4668, 'neurot': 4669, 'sensual': 4670, 'mol': 4671, '95': 4672, 'ritchi': 4673, 'clad': 4674, 'cliffhang': 4675, 'heartwarm': 4676, 'pacif': 4677, 'cb': 4678, 'recit': 4679, 'wendigo': 4680, 'prophet': 4681, 'miracul': 4682, 'rot': 4683, 'harrison': 4684, 'traffic': 4685, 'proclaim': 4686, 'parson': 4687, 'jade': 4688, 'vibrant': 4689, 'hug': 4690, 'earnest': 4691, 'cycl': 4692, 'frontier': 4693, 'ish': 4694, 'anton': 4695, 'dylan': 4696, 'submit': 4697, 'loretta': 4698, 'artwork': 4699, 'hilar': 4700, 'casino': 4701, 'hapless': 4702, 'axe': 4703, 'fragil': 4704, 'pixar': 4705, 'luka': 4706, 'helm': 4707, 'undermin': 4708, 'mobster': 4709, 'dame': 4710, 'senior': 4711, 'kathryn': 4712, 'colin': 4713, 'carlo': 4714, 'europa': 4715, 'melissa': 4716, 'biblic': 4717, 'neill': 4718, 'banter': 4719, 'dim': 4720, 'cher': 4721, 'timberlak': 4722, 'bate': 4723, 'pickford': 4724, 'pc': 4725, 'feast': 4726, 'toronto': 4727, 'jordan': 4728, 'isra': 4729, 'aris': 4730, 'antholog': 4731, 'jo': 4732, 'static': 4733, 'lui': 4734, 'vanessa': 4735, 'venom': 4736, 'seedi': 4737, 'wardrob': 4738, 'rooki': 4739, 'choke': 4740, 'breakfast': 4741, 'uma': 4742, 'eli': 4743, 'articl': 4744, 'legitim': 4745, 'cerebr': 4746, 'mathieu': 4747, 'blatantli': 4748, 'foil': 4749, 'bikini': 4750, 'winchest': 4751, 'akin': 4752, 'misfortun': 4753, 'illus': 4754, 'nope': 4755, 'bondag': 4756, 'mason': 4757, 'estrang': 4758, 'sicken': 4759, 'orphan': 4760, 'holocaust': 4761, 'shepherd': 4762, 'vile': 4763, 'token': 4764, 'flavor': 4765, 'marlon': 4766, 'electron': 4767, 'http': 4768, 'redneck': 4769, 'lucil': 4770, 'alexandr': 4771, 'northern': 4772, 'trier': 4773, 'milo': 4774, 'razor': 4775, 'linear': 4776, 'ideolog': 4777, 'abund': 4778, 'cartoonish': 4779, 'fifth': 4780, 'huston': 4781, 'gunga': 4782, 'affleck': 4783, 'styliz': 4784, 'ceremoni': 4785, 'boyer': 4786, 'charlton': 4787, 'glare': 4788, 'dudley': 4789, 'oppon': 4790, 'frog': 4791, 'smack': 4792, 'knightley': 4793, 'gilbert': 4794, 'highway': 4795, 'peer': 4796, 'nightclub': 4797, 'disregard': 4798, 'swept': 4799, 'retriev': 4800, 'deem': 4801, 'shorter': 4802, 'howl': 4803, 'magician': 4804, 'leather': 4805, 'tack': 4806, 'wrestler': 4807, 'psych': 4808, 'outdat': 4809, 'comprehend': 4810, 'feminin': 4811, 'turd': 4812, 'clinic': 4813, 'audrey': 4814, 'salman': 4815, 'collector': 4816, 'deliver': 4817, 'potter': 4818, 'bastard': 4819, 'newer': 4820, 'phenomen': 4821, 'energet': 4822, 'spawn': 4823, '1991': 4824, 'sleaz': 4825, 'greet': 4826, 'whack': 4827, 'chip': 4828, 'plate': 4829, 'mitch': 4830, '4th': 4831, 'cemeteri': 4832, 'conrad': 4833, 'lifeless': 4834, 'uniformli': 4835, 'spine': 4836, 'compris': 4837, '1994': 4838, 'tara': 4839, 'lavish': 4840, 'durat': 4841, 'toe': 4842, 'lighter': 4843, 'corn': 4844, 'monument': 4845, 'bogu': 4846, 'goldsworthi': 4847, 'boo': 4848, 'breakdown': 4849, 'senat': 4850, 'snatch': 4851, 'evolut': 4852, 'summar': 4853, 'cuban': 4854, 'btw': 4855, 'braveheart': 4856, 'client': 4857, 'einstein': 4858, 'moe': 4859, 'alleg': 4860, 'capot': 4861, 'belli': 4862, 'lex': 4863, 'outright': 4864, '1974': 4865, 'luxuri': 4866, 'historian': 4867, 'ie': 4868, 'kazan': 4869, 'jule': 4870, '1977': 4871, 'neatli': 4872, 'appl': 4873, 'inaccuraci': 4874, 'jam': 4875, 'embark': 4876, 'wtf': 4877, 'kent': 4878, 'firmli': 4879, 'cecil': 4880, 'pronounc': 4881, 'undertak': 4882, 'bulk': 4883, 'replay': 4884, 'sorrow': 4885, 'spectacl': 4886, 'nina': 4887, 'clara': 4888, 'fluid': 4889, 'mcqueen': 4890, 'bori': 4891, 'armstrong': 4892, 'undead': 4893, 'judd': 4894, 'trauma': 4895, 'liu': 4896, 'evelyn': 4897, 'occup': 4898, 'signal': 4899, 'healthi': 4900, 'constitut': 4901, 'randolph': 4902, 'creek': 4903, 'ol': 4904, 'gilliam': 4905, 'jare': 4906, 'jedi': 4907, 'eleven': 4908, 'blur': 4909, 'roar': 4910, 'truman': 4911, 'forgiven': 4912, 'conan': 4913, 'vignett': 4914, 'congratul': 4915, 'bait': 4916, 'aussi': 4917, 'knee': 4918, 'walt': 4919, 'sidewalk': 4920, 'antonio': 4921, 'inaccur': 4922, 'sacrif': 4923, 'subtli': 4924, 'ash': 4925, 'comb': 4926, 'propheci': 4927, '1985': 4928, 'decapit': 4929, 'lanc': 4930, 'pepper': 4931, 'paula': 4932, 'porter': 4933, 'inclus': 4934, 'carmen': 4935, 'fruit': 4936, 'id': 4937, 'unsuspect': 4938, 'poker': 4939, 'bsg': 4940, 'mum': 4941, 'basket': 4942, 'lauren': 4943, 'miniseri': 4944, 'unattract': 4945, 'curtain': 4946, 'groan': 4947, 'meal': 4948, 'vain': 4949, 'miami': 4950, 'palm': 4951, 'genet': 4952, 'goldblum': 4953, 'pioneer': 4954, 'rosario': 4955, 'comprehens': 4956, 'relentless': 4957, 'tokyo': 4958, 'abound': 4959, 'kiddi': 4960, 'galaxi': 4961, 'spray': 4962, 'cape': 4963, 'frontal': 4964, 'asset': 4965, 'weari': 4966, 'monti': 4967, 'handicap': 4968, 'hackman': 4969, 'detach': 4970, 'drone': 4971, 'sophi': 4972, 'sparkl': 4973, 'scariest': 4974, 'evan': 4975, 'spill': 4976, 'mice': 4977, 'motorcycl': 4978, 'macabr': 4979, 'epitom': 4980, 'jill': 4981, 'dubiou': 4982, 'rapidli': 4983, 'hostil': 4984, 'ghetto': 4985, 'scarfac': 4986, 'profil': 4987, 'substanti': 4988, 'bach': 4989, 'incorrect': 4990, 'omin': 4991, 'modest': 4992, 'bravo': 4993, 'vastli': 4994, 'verg': 4995, 'turtl': 4996, 'masterson': 4997, '21st': 4998, 'victorian': 4999}\n"
     ]
    }
   ],
   "source": [
    "word_dict = build_dict(train_X)"
   ]
  },
  {
   "cell_type": "code",
   "execution_count": 14,
   "metadata": {},
   "outputs": [],
   "source": [
    "data_dir = '../data/pytorch' # The folder we will use for storing data\n",
    "if not os.path.exists(data_dir): # Make sure that the folder exists\n",
    "    os.makedirs(data_dir)"
   ]
  },
  {
   "cell_type": "code",
   "execution_count": 15,
   "metadata": {},
   "outputs": [],
   "source": [
    "with open(os.path.join(data_dir, 'word_dict.pkl'), \"wb\") as f:\n",
    "    pickle.dump(word_dict, f)"
   ]
  },
  {
   "cell_type": "markdown",
   "metadata": {},
   "source": [
    "### Transform the reviews\n",
    "\n",
    "Now that we have our word dictionary which allows us to transform the words appearing in the reviews into integers, it is time to make use of it and convert our reviews to their integer sequence representation, making sure to pad or truncate to a fixed length, which in our case is `500`."
   ]
  },
  {
   "cell_type": "code",
   "execution_count": 16,
   "metadata": {},
   "outputs": [],
   "source": [
    "def convert_and_pad(word_dict, sentence, pad=500):\n",
    "    NOWORD = 0 # We will use 0 to represent the 'no word' category\n",
    "    INFREQ = 1 # and we use 1 to represent the infrequent words, i.e., words not appearing in word_dict\n",
    "    \n",
    "    working_sentence = [NOWORD] * pad\n",
    "    \n",
    "    for word_index, word in enumerate(sentence[:pad]):\n",
    "        if word in word_dict:\n",
    "            working_sentence[word_index] = word_dict[word]\n",
    "        else:\n",
    "            working_sentence[word_index] = INFREQ\n",
    "            \n",
    "    return working_sentence, min(len(sentence), pad)\n",
    "\n",
    "def convert_and_pad_data(word_dict, data, pad=500):\n",
    "    result = []\n",
    "    lengths = []\n",
    "    \n",
    "    for sentence in data:\n",
    "        converted, leng = convert_and_pad(word_dict, sentence, pad)\n",
    "        result.append(converted)\n",
    "        lengths.append(leng)\n",
    "        \n",
    "    return np.array(result), np.array(lengths)"
   ]
  },
  {
   "cell_type": "code",
   "execution_count": 17,
   "metadata": {},
   "outputs": [],
   "source": [
    "train_X, train_X_len = convert_and_pad_data(word_dict, train_X)\n",
    "test_X, test_X_len = convert_and_pad_data(word_dict, test_X)"
   ]
  },
  {
   "cell_type": "markdown",
   "metadata": {},
   "source": [
    "As a quick check to make sure that things are working as intended, check to see what one of the reviews in the training set looks like after having been processeed. Does this look reasonable? What is the length of a review in the training set?"
   ]
  },
  {
   "cell_type": "code",
   "execution_count": 18,
   "metadata": {},
   "outputs": [
    {
     "name": "stdout",
     "output_type": "stream",
     "text": [
      "[  16   37  149   25   12    3  563 1001 1922  392    1 1740   55  471\n",
      " 1467 2352 2650 3966 4445  304   29    3   74  333   30 1191    1  606\n",
      "    3  195  314  208    1 2227  420    3   94 3966 2702   40  126 1171\n",
      " 1201   26  574    5   18 1545  529  467  478  948  129  280  394    3\n",
      "   71   23 1398  462  264 2917 4105  420 4365  585   53  711   83    0\n",
      "    0    0    0    0    0    0    0    0    0    0    0    0    0    0\n",
      "    0    0    0    0    0    0    0    0    0    0    0    0    0    0\n",
      "    0    0    0    0    0    0    0    0    0    0    0    0    0    0\n",
      "    0    0    0    0    0    0    0    0    0    0    0    0    0    0\n",
      "    0    0    0    0    0    0    0    0    0    0    0    0    0    0\n",
      "    0    0    0    0    0    0    0    0    0    0    0    0    0    0\n",
      "    0    0    0    0    0    0    0    0    0    0    0    0    0    0\n",
      "    0    0    0    0    0    0    0    0    0    0    0    0    0    0\n",
      "    0    0    0    0    0    0    0    0    0    0    0    0    0    0\n",
      "    0    0    0    0    0    0    0    0    0    0    0    0    0    0\n",
      "    0    0    0    0    0    0    0    0    0    0    0    0    0    0\n",
      "    0    0    0    0    0    0    0    0    0    0    0    0    0    0\n",
      "    0    0    0    0    0    0    0    0    0    0    0    0    0    0\n",
      "    0    0    0    0    0    0    0    0    0    0    0    0    0    0\n",
      "    0    0    0    0    0    0    0    0    0    0    0    0    0    0\n",
      "    0    0    0    0    0    0    0    0    0    0    0    0    0    0\n",
      "    0    0    0    0    0    0    0    0    0    0    0    0    0    0\n",
      "    0    0    0    0    0    0    0    0    0    0    0    0    0    0\n",
      "    0    0    0    0    0    0    0    0    0    0    0    0    0    0\n",
      "    0    0    0    0    0    0    0    0    0    0    0    0    0    0\n",
      "    0    0    0    0    0    0    0    0    0    0    0    0    0    0\n",
      "    0    0    0    0    0    0    0    0    0    0    0    0    0    0\n",
      "    0    0    0    0    0    0    0    0    0    0    0    0    0    0\n",
      "    0    0    0    0    0    0    0    0    0    0    0    0    0    0\n",
      "    0    0    0    0    0    0    0    0    0    0    0    0    0    0\n",
      "    0    0    0    0    0    0    0    0    0    0    0    0    0    0\n",
      "    0    0    0    0    0    0    0    0    0    0    0    0    0    0\n",
      "    0    0    0    0    0    0    0    0    0    0    0    0    0    0\n",
      "    0    0    0    0    0    0    0    0    0    0    0    0    0    0\n",
      "    0    0    0    0    0    0    0    0    0    0    0    0    0    0\n",
      "    0    0    0    0    0    0    0    0    0    0]\n"
     ]
    }
   ],
   "source": [
    "# Use this cell to examine one of the processed reviews to make sure everything is working as intended.\n",
    "print(train_X[100])"
   ]
  },
  {
   "cell_type": "markdown",
   "metadata": {},
   "source": [
    "## Step 3: Upload the data to S3\n",
    "\n",
    "As in the XGBoost notebook, we will need to upload the training dataset to S3 in order for our training code to access it. For now we will save it locally and we will upload to S3 later on.\n",
    "\n",
    "### Save the processed training dataset locally\n",
    "\n",
    "It is important to note the format of the data that we are saving as we will need to know it when we write the training code. In our case, each row of the dataset has the form `label`, `length`, `review[500]` where `review[500]` is a sequence of `500` integers representing the words in the review."
   ]
  },
  {
   "cell_type": "code",
   "execution_count": 19,
   "metadata": {},
   "outputs": [],
   "source": [
    "import pandas as pd\n",
    "    \n",
    "pd.concat([pd.DataFrame(train_y), pd.DataFrame(train_X_len), pd.DataFrame(train_X)], axis=1) \\\n",
    "        .to_csv(os.path.join(data_dir, 'train.csv'), header=False, index=False)"
   ]
  },
  {
   "cell_type": "markdown",
   "metadata": {},
   "source": [
    "### Uploading the training data\n",
    "\n",
    "\n",
    "Next, we need to upload the training data to the SageMaker default S3 bucket so that we can provide access to it while training our model."
   ]
  },
  {
   "cell_type": "code",
   "execution_count": 20,
   "metadata": {},
   "outputs": [],
   "source": [
    "import sagemaker\n",
    "\n",
    "sagemaker_session = sagemaker.Session()\n",
    "\n",
    "bucket = sagemaker_session.default_bucket()\n",
    "prefix = 'sagemaker/sentiment_rnn'\n",
    "\n",
    "role = sagemaker.get_execution_role()"
   ]
  },
  {
   "cell_type": "code",
   "execution_count": 21,
   "metadata": {},
   "outputs": [],
   "source": [
    "input_data = sagemaker_session.upload_data(path=data_dir, bucket=bucket, key_prefix=prefix)"
   ]
  },
  {
   "cell_type": "markdown",
   "metadata": {},
   "source": [
    "**NOTE:** The cell above uploads the entire contents of our data directory. This includes the `word_dict.pkl` file. This is fortunate as we will need this later on when we create an endpoint that accepts an arbitrary review. For now, we will just take note of the fact that it resides in the data directory (and so also in the S3 training bucket) and that we will need to make sure it gets saved in the model directory."
   ]
  },
  {
   "cell_type": "markdown",
   "metadata": {},
   "source": [
    "## Step 4: Build and Train the PyTorch Model\n",
    "\n",
    "In the XGBoost notebook we discussed what a model is in the SageMaker framework. In particular, a model comprises three objects\n",
    "\n",
    " - Model Artifacts,\n",
    " - Training Code, and\n",
    " - Inference Code,\n",
    " \n",
    "each of which interact with one another. In the XGBoost example we used training and inference code that was provided by Amazon. Here we will still be using containers provided by Amazon with the added benefit of being able to include our own custom code.\n",
    "\n",
    "We will start by implementing our own neural network in PyTorch along with a training script. For the purposes of this project we have provided the necessary model object in the `model.py` file, inside of the `train` folder. You can see the provided implementation by running the cell below."
   ]
  },
  {
   "cell_type": "code",
   "execution_count": 22,
   "metadata": {},
   "outputs": [
    {
     "name": "stdout",
     "output_type": "stream",
     "text": [
      "\u001b[34mimport\u001b[39;49;00m \u001b[04m\u001b[36mtorch.nn\u001b[39;49;00m \u001b[34mas\u001b[39;49;00m \u001b[04m\u001b[36mnn\u001b[39;49;00m\r\n",
      "\r\n",
      "\u001b[34mclass\u001b[39;49;00m \u001b[04m\u001b[32mLSTMClassifier\u001b[39;49;00m(nn.Module):\r\n",
      "    \u001b[33m\"\"\"\u001b[39;49;00m\r\n",
      "\u001b[33m    This is the simple RNN model we will be using to perform Sentiment Analysis.\u001b[39;49;00m\r\n",
      "\u001b[33m    \"\"\"\u001b[39;49;00m\r\n",
      "\r\n",
      "    \u001b[34mdef\u001b[39;49;00m \u001b[32m__init__\u001b[39;49;00m(\u001b[36mself\u001b[39;49;00m, embedding_dim, hidden_dim, vocab_size):\r\n",
      "        \u001b[33m\"\"\"\u001b[39;49;00m\r\n",
      "\u001b[33m        Initialize the model by settingg up the various layers.\u001b[39;49;00m\r\n",
      "\u001b[33m        \"\"\"\u001b[39;49;00m\r\n",
      "        \u001b[36msuper\u001b[39;49;00m(LSTMClassifier, \u001b[36mself\u001b[39;49;00m).\u001b[32m__init__\u001b[39;49;00m()\r\n",
      "\r\n",
      "        \u001b[36mself\u001b[39;49;00m.embedding = nn.Embedding(vocab_size, embedding_dim, padding_idx=\u001b[34m0\u001b[39;49;00m)\r\n",
      "        \u001b[36mself\u001b[39;49;00m.lstm = nn.LSTM(embedding_dim, hidden_dim)\r\n",
      "        \u001b[36mself\u001b[39;49;00m.dense = nn.Linear(in_features=hidden_dim, out_features=\u001b[34m1\u001b[39;49;00m)\r\n",
      "        \u001b[36mself\u001b[39;49;00m.sig = nn.Sigmoid()\r\n",
      "        \r\n",
      "        \u001b[36mself\u001b[39;49;00m.word_dict = \u001b[36mNone\u001b[39;49;00m\r\n",
      "\r\n",
      "    \u001b[34mdef\u001b[39;49;00m \u001b[32mforward\u001b[39;49;00m(\u001b[36mself\u001b[39;49;00m, x):\r\n",
      "        \u001b[33m\"\"\"\u001b[39;49;00m\r\n",
      "\u001b[33m        Perform a forward pass of our model on some input.\u001b[39;49;00m\r\n",
      "\u001b[33m        \"\"\"\u001b[39;49;00m\r\n",
      "        x = x.t()\r\n",
      "        lengths = x[\u001b[34m0\u001b[39;49;00m,:]\r\n",
      "        reviews = x[\u001b[34m1\u001b[39;49;00m:,:]\r\n",
      "        embeds = \u001b[36mself\u001b[39;49;00m.embedding(reviews)\r\n",
      "        lstm_out, _ = \u001b[36mself\u001b[39;49;00m.lstm(embeds)\r\n",
      "        out = \u001b[36mself\u001b[39;49;00m.dense(lstm_out)\r\n",
      "        out = out[lengths - \u001b[34m1\u001b[39;49;00m, \u001b[36mrange\u001b[39;49;00m(\u001b[36mlen\u001b[39;49;00m(lengths))]\r\n",
      "        \u001b[34mreturn\u001b[39;49;00m \u001b[36mself\u001b[39;49;00m.sig(out.squeeze())\r\n"
     ]
    }
   ],
   "source": [
    "!pygmentize train/model.py"
   ]
  },
  {
   "cell_type": "markdown",
   "metadata": {},
   "source": [
    "The important takeaway from the implementation provided is that there are three parameters that we may wish to tweak to improve the performance of our model. These are the embedding dimension, the hidden dimension and the size of the vocabulary. We will likely want to make these parameters configurable in the training script so that if we wish to modify them we do not need to modify the script itself. We will see how to do this later on. To start we will write some of the training code in the notebook so that we can more easily diagnose any issues that arise.\n",
    "\n",
    "First we will load a small portion of the training data set to use as a sample. It would be very time consuming to try and train the model completely in the notebook as we do not have access to a gpu and the compute instance that we are using is not particularly powerful. However, we can work on a small bit of the data to get a feel for how our training script is behaving."
   ]
  },
  {
   "cell_type": "code",
   "execution_count": 23,
   "metadata": {},
   "outputs": [],
   "source": [
    "import torch\n",
    "import torch.utils.data\n",
    "\n",
    "# Read in only the first 250 rows\n",
    "train_sample = pd.read_csv(os.path.join(data_dir, 'train.csv'), header=None, names=None, nrows=250)\n",
    "\n",
    "# Turn the input pandas dataframe into tensors\n",
    "train_sample_y = torch.from_numpy(train_sample[[0]].values).float().squeeze()\n",
    "train_sample_X = torch.from_numpy(train_sample.drop([0], axis=1).values).long()\n",
    "\n",
    "# Build the dataset\n",
    "train_sample_ds = torch.utils.data.TensorDataset(train_sample_X, train_sample_y)\n",
    "# Build the dataloader\n",
    "train_sample_dl = torch.utils.data.DataLoader(train_sample_ds, batch_size=50)"
   ]
  },
  {
   "cell_type": "code",
   "execution_count": 24,
   "metadata": {},
   "outputs": [],
   "source": [
    "def train(model, train_loader, epochs, optimizer, loss_fn, device):\n",
    "    for epoch in range(1, epochs + 1):\n",
    "        model.train()\n",
    "        total_loss = 0\n",
    "        for batch in train_loader:         \n",
    "            batch_X, batch_y = batch\n",
    "            \n",
    "            batch_X = batch_X.to(device)\n",
    "            batch_y = batch_y.to(device)\n",
    "            \n",
    "            output = model(batch_X)\n",
    "            loss = loss_fn(output, batch_y)\n",
    "            loss.backward()\n",
    "            optimizer.step()\n",
    "            \n",
    "            # TODO: Complete this train method to train the model provided.\n",
    "            \n",
    "            total_loss += loss.data.item()\n",
    "        print(\"Epoch: {}, BCELoss: {}\".format(epoch, total_loss / len(train_loader)))"
   ]
  },
  {
   "cell_type": "markdown",
   "metadata": {},
   "source": [
    "Supposing we have the training method above, we will test that it is working by writing a bit of code in the notebook that executes our training method on the small sample training set that we loaded earlier. The reason for doing this in the notebook is so that we have an opportunity to fix any errors that arise early when they are easier to diagnose."
   ]
  },
  {
   "cell_type": "code",
   "execution_count": 25,
   "metadata": {},
   "outputs": [
    {
     "name": "stdout",
     "output_type": "stream",
     "text": [
      "Epoch: 1, BCELoss: 0.691714084148407\n",
      "Epoch: 2, BCELoss: 0.6773307919502258\n",
      "Epoch: 3, BCELoss: 0.6608324408531189\n",
      "Epoch: 4, BCELoss: 0.6403316259384155\n",
      "Epoch: 5, BCELoss: 0.6187720775604248\n"
     ]
    }
   ],
   "source": [
    "import torch.optim as optim\n",
    "from train.model import LSTMClassifier\n",
    "\n",
    "device = torch.device(\"cuda\" if torch.cuda.is_available() else \"cpu\")\n",
    "model = LSTMClassifier(32, 100, 5000).to(device)\n",
    "optimizer = optim.Adam(model.parameters())\n",
    "loss_fn = torch.nn.BCELoss()\n",
    "\n",
    "train(model, train_sample_dl, 5, optimizer, loss_fn, device)"
   ]
  },
  {
   "cell_type": "markdown",
   "metadata": {},
   "source": [
    "In order to construct a PyTorch model using SageMaker we must provide SageMaker with a training script. We may optionally include a directory which will be copied to the container and from which our training code will be run. When the training container is executed it will check the uploaded directory (if there is one) for a `requirements.txt` file and install any required Python libraries, after which the training script will be run."
   ]
  },
  {
   "cell_type": "code",
   "execution_count": 26,
   "metadata": {},
   "outputs": [],
   "source": [
    "from sagemaker.pytorch import PyTorch\n",
    "\n",
    "estimator = PyTorch(entry_point=\"train.py\",\n",
    "                    source_dir=\"train\",\n",
    "                    role=role,\n",
    "                    framework_version='0.4.0',\n",
    "                    train_instance_count=1,\n",
    "                    train_instance_type='ml.p2.xlarge',\n",
    "                    hyperparameters={\n",
    "                        'epochs': 10,\n",
    "                        'hidden_dim': 200,\n",
    "                    })"
   ]
  },
  {
   "cell_type": "code",
   "execution_count": 27,
   "metadata": {},
   "outputs": [
    {
     "name": "stdout",
     "output_type": "stream",
     "text": [
      "2019-06-11 11:58:34 Starting - Starting the training job...\n",
      "2019-06-11 11:58:38 Starting - Launching requested ML instances......\n",
      "2019-06-11 11:59:37 Starting - Preparing the instances for training......\n",
      "2019-06-11 12:00:42 Downloading - Downloading input data...\n",
      "2019-06-11 12:01:13 Training - Downloading the training image...\n",
      "2019-06-11 12:01:46 Training - Training image download completed. Training in progress.\n",
      "\u001b[31mbash: cannot set terminal process group (-1): Inappropriate ioctl for device\u001b[0m\n",
      "\u001b[31mbash: no job control in this shell\u001b[0m\n",
      "\u001b[31m2019-06-11 12:01:47,399 sagemaker-containers INFO     Imported framework sagemaker_pytorch_container.training\u001b[0m\n",
      "\u001b[31m2019-06-11 12:01:47,422 sagemaker_pytorch_container.training INFO     Block until all host DNS lookups succeed.\u001b[0m\n",
      "\u001b[31m2019-06-11 12:01:50,430 sagemaker_pytorch_container.training INFO     Invoking user training script.\u001b[0m\n",
      "\u001b[31m2019-06-11 12:01:50,688 sagemaker-containers INFO     Module train does not provide a setup.py. \u001b[0m\n",
      "\u001b[31mGenerating setup.py\u001b[0m\n",
      "\u001b[31m2019-06-11 12:01:50,688 sagemaker-containers INFO     Generating setup.cfg\u001b[0m\n",
      "\u001b[31m2019-06-11 12:01:50,688 sagemaker-containers INFO     Generating MANIFEST.in\u001b[0m\n",
      "\u001b[31m2019-06-11 12:01:50,688 sagemaker-containers INFO     Installing module with the following command:\u001b[0m\n",
      "\u001b[31m/usr/bin/python -m pip install -U . -r requirements.txt\u001b[0m\n",
      "\u001b[31mProcessing /opt/ml/code\u001b[0m\n",
      "\u001b[31mCollecting pandas (from -r requirements.txt (line 1))\n",
      "  Downloading https://files.pythonhosted.org/packages/74/24/0cdbf8907e1e3bc5a8da03345c23cbed7044330bb8f73bb12e711a640a00/pandas-0.24.2-cp35-cp35m-manylinux1_x86_64.whl (10.0MB)\u001b[0m\n",
      "\u001b[31mCollecting numpy (from -r requirements.txt (line 2))\n",
      "  Downloading https://files.pythonhosted.org/packages/bb/ef/d5a21cbc094d3f4d5b5336494dbcc9550b70c766a8345513c7c24ed18418/numpy-1.16.4-cp35-cp35m-manylinux1_x86_64.whl (17.2MB)\u001b[0m\n",
      "\u001b[31mCollecting nltk (from -r requirements.txt (line 3))\n",
      "  Downloading https://files.pythonhosted.org/packages/8d/5d/825889810b85c303c8559a3fd74d451d80cf3585a851f2103e69576bf583/nltk-3.4.3.zip (1.4MB)\u001b[0m\n",
      "\u001b[31mCollecting beautifulsoup4 (from -r requirements.txt (line 4))\n",
      "  Downloading https://files.pythonhosted.org/packages/1d/5d/3260694a59df0ec52f8b4883f5d23b130bc237602a1411fa670eae12351e/beautifulsoup4-4.7.1-py3-none-any.whl (94kB)\u001b[0m\n",
      "\u001b[31mCollecting html5lib (from -r requirements.txt (line 5))\n",
      "  Downloading https://files.pythonhosted.org/packages/a5/62/bbd2be0e7943ec8504b517e62bab011b4946e1258842bc159e5dfde15b96/html5lib-1.0.1-py2.py3-none-any.whl (117kB)\u001b[0m\n",
      "\u001b[31mCollecting pytz>=2011k (from pandas->-r requirements.txt (line 1))\n",
      "  Downloading https://files.pythonhosted.org/packages/3d/73/fe30c2daaaa0713420d0382b16fbb761409f532c56bdcc514bf7b6262bb6/pytz-2019.1-py2.py3-none-any.whl (510kB)\u001b[0m\n",
      "\u001b[31mRequirement already satisfied, skipping upgrade: python-dateutil>=2.5.0 in /usr/local/lib/python3.5/dist-packages (from pandas->-r requirements.txt (line 1)) (2.7.5)\u001b[0m\n",
      "\u001b[31mRequirement already satisfied, skipping upgrade: six in /usr/local/lib/python3.5/dist-packages (from nltk->-r requirements.txt (line 3)) (1.11.0)\u001b[0m\n",
      "\u001b[31mCollecting soupsieve>=1.2 (from beautifulsoup4->-r requirements.txt (line 4))\n",
      "  Downloading https://files.pythonhosted.org/packages/b9/a5/7ea40d0f8676bde6e464a6435a48bc5db09b1a8f4f06d41dd997b8f3c616/soupsieve-1.9.1-py2.py3-none-any.whl\u001b[0m\n",
      "\u001b[31mCollecting webencodings (from html5lib->-r requirements.txt (line 5))\n",
      "  Downloading https://files.pythonhosted.org/packages/f4/24/2a3e3df732393fed8b3ebf2ec078f05546de641fe1b667ee316ec1dcf3b7/webencodings-0.5.1-py2.py3-none-any.whl\u001b[0m\n",
      "\u001b[31mBuilding wheels for collected packages: nltk, train\n",
      "  Running setup.py bdist_wheel for nltk: started\u001b[0m\n",
      "\u001b[31m  Running setup.py bdist_wheel for nltk: finished with status 'done'\n",
      "  Stored in directory: /root/.cache/pip/wheels/54/40/b7/c56ad418e6cd4d9e1e594b5e138d1ca6eec11a6ee3d464e5bb\n",
      "  Running setup.py bdist_wheel for train: started\n",
      "  Running setup.py bdist_wheel for train: finished with status 'done'\n",
      "  Stored in directory: /tmp/pip-ephem-wheel-cache-shflcqlk/wheels/35/24/16/37574d11bf9bde50616c67372a334f94fa8356bc7164af8ca3\u001b[0m\n",
      "\u001b[31mSuccessfully built nltk train\u001b[0m\n",
      "\u001b[31mInstalling collected packages: pytz, numpy, pandas, nltk, soupsieve, beautifulsoup4, webencodings, html5lib, train\u001b[0m\n",
      "\u001b[31m  Found existing installation: numpy 1.15.4\n",
      "    Uninstalling numpy-1.15.4:\n",
      "      Successfully uninstalled numpy-1.15.4\u001b[0m\n",
      "\u001b[31mSuccessfully installed beautifulsoup4-4.7.1 html5lib-1.0.1 nltk-3.4.3 numpy-1.16.4 pandas-0.24.2 pytz-2019.1 soupsieve-1.9.1 train-1.0.0 webencodings-0.5.1\u001b[0m\n",
      "\u001b[31mYou are using pip version 18.1, however version 19.1.1 is available.\u001b[0m\n",
      "\u001b[31mYou should consider upgrading via the 'pip install --upgrade pip' command.\u001b[0m\n",
      "\u001b[31m2019-06-11 12:02:02,576 sagemaker-containers INFO     Invoking user script\n",
      "\u001b[0m\n",
      "\u001b[31mTraining Env:\n",
      "\u001b[0m\n",
      "\u001b[31m{\n",
      "    \"resource_config\": {\n",
      "        \"hosts\": [\n",
      "            \"algo-1\"\n",
      "        ],\n",
      "        \"current_host\": \"algo-1\",\n",
      "        \"network_interface_name\": \"ethwe\"\n",
      "    },\n",
      "    \"output_dir\": \"/opt/ml/output\",\n",
      "    \"additional_framework_parameters\": {},\n",
      "    \"channel_input_dirs\": {\n",
      "        \"training\": \"/opt/ml/input/data/training\"\n",
      "    },\n",
      "    \"job_name\": \"sagemaker-pytorch-2019-06-11-11-58-32-916\",\n",
      "    \"module_dir\": \"s3://sagemaker-ap-south-1-753510662478/sagemaker-pytorch-2019-06-11-11-58-32-916/source/sourcedir.tar.gz\",\n",
      "    \"input_config_dir\": \"/opt/ml/input/config\",\n",
      "    \"input_data_config\": {\n",
      "        \"training\": {\n",
      "            \"TrainingInputMode\": \"File\",\n",
      "            \"S3DistributionType\": \"FullyReplicated\",\n",
      "            \"RecordWrapperType\": \"None\"\n",
      "        }\n",
      "    },\n",
      "    \"input_dir\": \"/opt/ml/input\",\n",
      "    \"framework_module\": \"sagemaker_pytorch_container.training:main\",\n",
      "    \"output_data_dir\": \"/opt/ml/output/data\",\n",
      "    \"output_intermediate_dir\": \"/opt/ml/output/intermediate\",\n",
      "    \"model_dir\": \"/opt/ml/model\",\n",
      "    \"hosts\": [\n",
      "        \"algo-1\"\n",
      "    ],\n",
      "    \"network_interface_name\": \"ethwe\",\n",
      "    \"num_gpus\": 1,\n",
      "    \"current_host\": \"algo-1\",\n",
      "    \"user_entry_point\": \"train.py\",\n",
      "    \"module_name\": \"train\",\n",
      "    \"num_cpus\": 4,\n",
      "    \"log_level\": 20,\n",
      "    \"hyperparameters\": {\n",
      "        \"epochs\": 10,\n",
      "        \"hidden_dim\": 200\n",
      "    }\u001b[0m\n",
      "\u001b[31m}\n",
      "\u001b[0m\n",
      "\u001b[31mEnvironment variables:\n",
      "\u001b[0m\n",
      "\u001b[31mSM_OUTPUT_INTERMEDIATE_DIR=/opt/ml/output/intermediate\u001b[0m\n",
      "\u001b[31mSM_NUM_GPUS=1\u001b[0m\n",
      "\u001b[31mSM_MODULE_DIR=s3://sagemaker-ap-south-1-753510662478/sagemaker-pytorch-2019-06-11-11-58-32-916/source/sourcedir.tar.gz\u001b[0m\n",
      "\u001b[31mSM_MODEL_DIR=/opt/ml/model\u001b[0m\n",
      "\u001b[31mSM_OUTPUT_DATA_DIR=/opt/ml/output/data\u001b[0m\n",
      "\u001b[31mSM_LOG_LEVEL=20\u001b[0m\n",
      "\u001b[31mSM_TRAINING_ENV={\"additional_framework_parameters\":{},\"channel_input_dirs\":{\"training\":\"/opt/ml/input/data/training\"},\"current_host\":\"algo-1\",\"framework_module\":\"sagemaker_pytorch_container.training:main\",\"hosts\":[\"algo-1\"],\"hyperparameters\":{\"epochs\":10,\"hidden_dim\":200},\"input_config_dir\":\"/opt/ml/input/config\",\"input_data_config\":{\"training\":{\"RecordWrapperType\":\"None\",\"S3DistributionType\":\"FullyReplicated\",\"TrainingInputMode\":\"File\"}},\"input_dir\":\"/opt/ml/input\",\"job_name\":\"sagemaker-pytorch-2019-06-11-11-58-32-916\",\"log_level\":20,\"model_dir\":\"/opt/ml/model\",\"module_dir\":\"s3://sagemaker-ap-south-1-753510662478/sagemaker-pytorch-2019-06-11-11-58-32-916/source/sourcedir.tar.gz\",\"module_name\":\"train\",\"network_interface_name\":\"ethwe\",\"num_cpus\":4,\"num_gpus\":1,\"output_data_dir\":\"/opt/ml/output/data\",\"output_dir\":\"/opt/ml/output\",\"output_intermediate_dir\":\"/opt/ml/output/intermediate\",\"resource_config\":{\"current_host\":\"algo-1\",\"hosts\":[\"algo-1\"],\"network_interface_name\":\"ethwe\"},\"user_entry_point\":\"train.py\"}\u001b[0m\n",
      "\u001b[31mSM_USER_ARGS=[\"--epochs\",\"10\",\"--hidden_dim\",\"200\"]\u001b[0m\n",
      "\u001b[31mSM_CURRENT_HOST=algo-1\u001b[0m\n",
      "\u001b[31mSM_CHANNEL_TRAINING=/opt/ml/input/data/training\u001b[0m\n",
      "\u001b[31mSM_OUTPUT_DIR=/opt/ml/output\u001b[0m\n",
      "\u001b[31mSM_HP_HIDDEN_DIM=200\u001b[0m\n",
      "\u001b[31mSM_HP_EPOCHS=10\u001b[0m\n",
      "\u001b[31mSM_HPS={\"epochs\":10,\"hidden_dim\":200}\u001b[0m\n",
      "\u001b[31mSM_INPUT_CONFIG_DIR=/opt/ml/input/config\u001b[0m\n",
      "\u001b[31mSM_FRAMEWORK_MODULE=sagemaker_pytorch_container.training:main\u001b[0m\n",
      "\u001b[31mSM_HOSTS=[\"algo-1\"]\u001b[0m\n",
      "\u001b[31mSM_CHANNELS=[\"training\"]\u001b[0m\n",
      "\u001b[31mSM_MODULE_NAME=train\u001b[0m\n",
      "\u001b[31mSM_NETWORK_INTERFACE_NAME=ethwe\u001b[0m\n",
      "\u001b[31mSM_RESOURCE_CONFIG={\"current_host\":\"algo-1\",\"hosts\":[\"algo-1\"],\"network_interface_name\":\"ethwe\"}\u001b[0m\n",
      "\u001b[31mSM_USER_ENTRY_POINT=train.py\u001b[0m\n",
      "\u001b[31mSM_NUM_CPUS=4\u001b[0m\n",
      "\u001b[31mSM_INPUT_DATA_CONFIG={\"training\":{\"RecordWrapperType\":\"None\",\"S3DistributionType\":\"FullyReplicated\",\"TrainingInputMode\":\"File\"}}\u001b[0m\n",
      "\u001b[31mSM_INPUT_DIR=/opt/ml/input\u001b[0m\n",
      "\u001b[31mSM_FRAMEWORK_PARAMS={}\u001b[0m\n",
      "\u001b[31mPYTHONPATH=/usr/local/bin:/usr/lib/python35.zip:/usr/lib/python3.5:/usr/lib/python3.5/plat-x86_64-linux-gnu:/usr/lib/python3.5/lib-dynload:/usr/local/lib/python3.5/dist-packages:/usr/lib/python3/dist-packages\n",
      "\u001b[0m\n",
      "\u001b[31mInvoking script with the following command:\n",
      "\u001b[0m\n",
      "\u001b[31m/usr/bin/python -m train --epochs 10 --hidden_dim 200\n",
      "\n",
      "\u001b[0m\n",
      "\u001b[31mUsing device cuda.\u001b[0m\n",
      "\u001b[31mGet train data loader.\u001b[0m\n",
      "\u001b[31mModel loaded with embedding_dim 32, hidden_dim 200, vocab_size 5000.\u001b[0m\n",
      "\u001b[31mEpoch: 1, BCELoss: 0.6819353967296834\u001b[0m\n",
      "\u001b[31mEpoch: 2, BCELoss: 0.6557984510246588\u001b[0m\n",
      "\u001b[31mEpoch: 3, BCELoss: 0.6280122070896382\u001b[0m\n",
      "\u001b[31mEpoch: 4, BCELoss: 0.5763276359256433\u001b[0m\n",
      "\u001b[31mEpoch: 5, BCELoss: 0.5343476904898273\u001b[0m\n",
      "\u001b[31mEpoch: 6, BCELoss: 0.4858986942135558\u001b[0m\n",
      "\u001b[31mEpoch: 7, BCELoss: 0.49151622944948625\u001b[0m\n",
      "\u001b[31mEpoch: 8, BCELoss: 0.5856389318193708\u001b[0m\n",
      "\u001b[31mEpoch: 9, BCELoss: 0.5007156796601354\u001b[0m\n",
      "\n",
      "2019-06-11 12:05:04 Uploading - Uploading generated training model\u001b[31mEpoch: 10, BCELoss: 0.5712476834958914\u001b[0m\n",
      "\u001b[31m2019-06-11 12:05:03,367 sagemaker-containers INFO     Reporting training SUCCESS\u001b[0m\n",
      "\n",
      "2019-06-11 12:05:09 Completed - Training job completed\n",
      "Billable seconds: 267\n"
     ]
    }
   ],
   "source": [
    "estimator.fit({'training': input_data})"
   ]
  },
  {
   "cell_type": "markdown",
   "metadata": {},
   "source": [
    "## Step 5: Testing the model\n",
    "\n",
    "As mentioned at the top of this notebook, we will be testing this model by first deploying it and then sending the testing data to the deployed endpoint. We will do this so that we can make sure that the deployed model is working correctly.\n",
    "\n",
    "## Step 6: Deploy the model for testing\n",
    "\n",
    "Now that we have trained our model, we would like to test it to see how it performs. Currently our model takes input of the form `review_length, review[500]` where `review[500]` is a sequence of `500` integers which describe the words present in the review, encoded using `word_dict`. Fortunately for us, SageMaker provides built-in inference code for models with simple inputs such as this.\n",
    "\n",
    "There is one thing that we need to provide, however, and that is a function which loads the saved model. This function must be called `model_fn()` and takes as its only parameter a path to the directory where the model artifacts are stored. This function must also be present in the python file which we specified as the entry point. In our case the model loading function has been provided and so no changes need to be made.\n",
    "\n",
    "**NOTE**: When the built-in inference code is run it must import the `model_fn()` method from the `train.py` file. This is why the training code is wrapped in a main guard ( ie, `if __name__ == '__main__':` )\n",
    "\n",
    "Since we don't need to change anything in the code that was uploaded during training, we can simply deploy the current model as-is.\n",
    "\n",
    "**NOTE:** When deploying a model you are asking SageMaker to launch an compute instance that will wait for data to be sent to it. As a result, this compute instance will continue to run until *you* shut it down. This is important to know since the cost of a deployed endpoint depends on how long it has been running for.\n",
    "\n",
    "In other words **If you are no longer using a deployed endpoint, shut it down!**\n",
    "\n",
    "**TODO:** Deploy the trained model."
   ]
  },
  {
   "cell_type": "code",
   "execution_count": 28,
   "metadata": {},
   "outputs": [
    {
     "name": "stdout",
     "output_type": "stream",
     "text": [
      "---------------------------------------------------------------------------------------!"
     ]
    }
   ],
   "source": [
    "# TODO: Deploy the trained model\n",
    "predictor = estimator.deploy(initial_instance_count=1, instance_type='ml.m4.xlarge')"
   ]
  },
  {
   "cell_type": "markdown",
   "metadata": {},
   "source": [
    "## Step 7 - Use the model for testing\n",
    "\n",
    "Once deployed, we can read in the test data and send it off to our deployed model to get some results. Once we collect all of the results we can determine how accurate our model is."
   ]
  },
  {
   "cell_type": "code",
   "execution_count": 29,
   "metadata": {},
   "outputs": [],
   "source": [
    "test_X = pd.concat([pd.DataFrame(test_X_len), pd.DataFrame(test_X)], axis=1)"
   ]
  },
  {
   "cell_type": "code",
   "execution_count": 30,
   "metadata": {},
   "outputs": [],
   "source": [
    "# We split the data into chunks and send each chunk seperately, accumulating the results.\n",
    "\n",
    "def predict(data, rows=512):\n",
    "    split_array = np.array_split(data, int(data.shape[0] / float(rows) + 1))\n",
    "    predictions = np.array([])\n",
    "    for array in split_array:\n",
    "        predictions = np.append(predictions, predictor.predict(array))\n",
    "    \n",
    "    return predictions"
   ]
  },
  {
   "cell_type": "code",
   "execution_count": 31,
   "metadata": {},
   "outputs": [],
   "source": [
    "predictions = predict(test_X.values)\n",
    "predictions = [round(num) for num in predictions]"
   ]
  },
  {
   "cell_type": "code",
   "execution_count": 32,
   "metadata": {},
   "outputs": [
    {
     "data": {
      "text/plain": [
       "0.67168"
      ]
     },
     "execution_count": 32,
     "metadata": {},
     "output_type": "execute_result"
    }
   ],
   "source": [
    "from sklearn.metrics import accuracy_score\n",
    "accuracy_score(test_y, predictions)"
   ]
  },
  {
   "cell_type": "markdown",
   "metadata": {},
   "source": [
    "**Question:** How does this model compare to the XGBoost model you created earlier? Why might these two models perform differently on this dataset? Which do *you* think is better for sentiment analysis?"
   ]
  },
  {
   "cell_type": "markdown",
   "metadata": {},
   "source": [
    "**Answer:** XGBoost is a decision tree model whrere as here we are using Lstms. I think this model will do better for sentimental analysis beacuse it has more learning capacity for texts it can better generalize the data"
   ]
  },
  {
   "cell_type": "code",
   "execution_count": 62,
   "metadata": {},
   "outputs": [],
   "source": [
    "test_review = 'The simplest pleasures in life are the best, and this film is one of them. Combining a rather basic storyline of love and adventure this movie transcends the usual weekend fair with wit and unmitigated charm.'"
   ]
  },
  {
   "cell_type": "markdown",
   "metadata": {},
   "source": [
    "The question we now need to answer is, how do we send this review to our model?\n",
    "\n",
    "Recall in the first section of this notebook we did a bunch of data processing to the IMDb dataset. In particular, we did two specific things to the provided reviews.\n",
    " - Removed any html tags and stemmed the input\n",
    " - Encoded the review as a sequence of integers using `word_dict`\n",
    " \n",
    "In order process the review we will need to repeat these two steps.\n",
    "\n",
    "**TODO**: Using the `review_to_words` and `convert_and_pad` methods from section one, convert `test_review` into a numpy array `test_data` suitable to send to our model. Remember that our model expects input of the form `review_length, review[500]`."
   ]
  },
  {
   "cell_type": "code",
   "execution_count": 34,
   "metadata": {},
   "outputs": [],
   "source": [
    "# TODO: Convert test_review into a form usable by the model and save the results in test_data\n",
    "test_review=review_to_words(test_review)\n",
    "words = convert_and_pad(word_dict , test_review)"
   ]
  },
  {
   "cell_type": "code",
   "execution_count": 35,
   "metadata": {},
   "outputs": [],
   "source": [
    "test_data = [np.array(words[0])]"
   ]
  },
  {
   "cell_type": "code",
   "execution_count": 36,
   "metadata": {},
   "outputs": [
    {
     "name": "stdout",
     "output_type": "stream",
     "text": [
      "<class 'list'>\n"
     ]
    }
   ],
   "source": [
    "print(type(test_data))"
   ]
  },
  {
   "cell_type": "code",
   "execution_count": 37,
   "metadata": {},
   "outputs": [],
   "source": [
    "review_length=np.array(500)"
   ]
  },
  {
   "cell_type": "markdown",
   "metadata": {},
   "source": [
    "Now that we have processed the review, we can send the resulting array to our model to predict the sentiment of the review."
   ]
  },
  {
   "cell_type": "code",
   "execution_count": 38,
   "metadata": {},
   "outputs": [
    {
     "data": {
      "text/plain": [
       "array(0.999508, dtype=float32)"
      ]
     },
     "execution_count": 38,
     "metadata": {},
     "output_type": "execute_result"
    }
   ],
   "source": [
    "predictor.predict(test_data)"
   ]
  },
  {
   "cell_type": "markdown",
   "metadata": {},
   "source": [
    "Since the return value of our model is close to `1`, we can be certain that the review we submitted is positive."
   ]
  },
  {
   "cell_type": "markdown",
   "metadata": {},
   "source": [
    "### Delete the endpoint\n",
    "\n",
    "Of course, just like in the XGBoost notebook, once we've deployed an endpoint it continues to run until we tell it to shut down. Since we are done using our endpoint for now, we can delete it."
   ]
  },
  {
   "cell_type": "code",
   "execution_count": 39,
   "metadata": {},
   "outputs": [],
   "source": [
    "estimator.delete_endpoint()"
   ]
  },
  {
   "cell_type": "markdown",
   "metadata": {},
   "source": [
    "## Step 6 (again) - Deploy the model for the web app\n",
    "\n",
    "Now that we know that our model is working, it's time to create some custom inference code so that we can send the model a review which has not been processed and have it determine the sentiment of the review.\n",
    "\n",
    "As we saw above, by default the estimator which we created, when deployed, will use the entry script and directory which we provided when creating the model. However, since we now wish to accept a string as input and our model expects a processed review, we need to write some custom inference code.\n",
    "\n",
    "We will store the code that we write in the `serve` directory. Provided in this directory is the `model.py` file that we used to construct our model, a `utils.py` file which contains the `review_to_words` and `convert_and_pad` pre-processing functions which we used during the initial data processing, and `predict.py`, the file which will contain our custom inference code. Note also that `requirements.txt` is present which will tell SageMaker what Python libraries are required by our custom inference code.\n",
    "\n",
    "When deploying a PyTorch model in SageMaker, you are expected to provide four functions which the SageMaker inference container will use.\n",
    " - `model_fn`: This function is the same function that we used in the training script and it tells SageMaker how to load our model.\n",
    " - `input_fn`: This function receives the raw serialized input that has been sent to the model's endpoint and its job is to de-serialize and make the input available for the inference code.\n",
    " - `output_fn`: This function takes the output of the inference code and its job is to serialize this output and return it to the caller of the model's endpoint.\n",
    " - `predict_fn`: The heart of the inference script, this is where the actual prediction is done and is the function which you will need to complete.\n",
    "\n",
    "For the simple website that we are constructing during this project, the `input_fn` and `output_fn` methods are relatively straightforward. We only require being able to accept a string as input and we expect to return a single value as output. You might imagine though that in a more complex application the input or output may be image data or some other binary data which would require some effort to serialize.\n",
    "\n",
    "### (TODO) Writing inference code\n",
    "\n",
    "Before writing our custom inference code, we will begin by taking a look at the code which has been provided."
   ]
  },
  {
   "cell_type": "code",
   "execution_count": 66,
   "metadata": {},
   "outputs": [
    {
     "name": "stdout",
     "output_type": "stream",
     "text": [
      "\u001b[34mimport\u001b[39;49;00m \u001b[04m\u001b[36margparse\u001b[39;49;00m\r\n",
      "\u001b[34mimport\u001b[39;49;00m \u001b[04m\u001b[36mjson\u001b[39;49;00m\r\n",
      "\u001b[34mimport\u001b[39;49;00m \u001b[04m\u001b[36mos\u001b[39;49;00m\r\n",
      "\u001b[34mimport\u001b[39;49;00m \u001b[04m\u001b[36mpickle\u001b[39;49;00m\r\n",
      "\u001b[34mimport\u001b[39;49;00m \u001b[04m\u001b[36msys\u001b[39;49;00m\r\n",
      "\u001b[34mimport\u001b[39;49;00m \u001b[04m\u001b[36msagemaker_containers\u001b[39;49;00m\r\n",
      "\u001b[34mimport\u001b[39;49;00m \u001b[04m\u001b[36mpandas\u001b[39;49;00m \u001b[34mas\u001b[39;49;00m \u001b[04m\u001b[36mpd\u001b[39;49;00m\r\n",
      "\u001b[34mimport\u001b[39;49;00m \u001b[04m\u001b[36mnumpy\u001b[39;49;00m \u001b[34mas\u001b[39;49;00m \u001b[04m\u001b[36mnp\u001b[39;49;00m\r\n",
      "\u001b[34mimport\u001b[39;49;00m \u001b[04m\u001b[36mtorch\u001b[39;49;00m\r\n",
      "\u001b[34mimport\u001b[39;49;00m \u001b[04m\u001b[36mtorch.nn\u001b[39;49;00m \u001b[34mas\u001b[39;49;00m \u001b[04m\u001b[36mnn\u001b[39;49;00m\r\n",
      "\u001b[34mimport\u001b[39;49;00m \u001b[04m\u001b[36mtorch.optim\u001b[39;49;00m \u001b[34mas\u001b[39;49;00m \u001b[04m\u001b[36moptim\u001b[39;49;00m\r\n",
      "\u001b[34mimport\u001b[39;49;00m \u001b[04m\u001b[36mtorch.utils.data\u001b[39;49;00m\r\n",
      "\r\n",
      "\u001b[34mfrom\u001b[39;49;00m \u001b[04m\u001b[36mmodel\u001b[39;49;00m \u001b[34mimport\u001b[39;49;00m LSTMClassifier\r\n",
      "\r\n",
      "\u001b[34mfrom\u001b[39;49;00m \u001b[04m\u001b[36mutils\u001b[39;49;00m \u001b[34mimport\u001b[39;49;00m review_to_words, convert_and_pad\r\n",
      "\r\n",
      "\u001b[34mdef\u001b[39;49;00m \u001b[32mmodel_fn\u001b[39;49;00m(model_dir):\r\n",
      "    \u001b[33m\"\"\"Load the PyTorch model from the `model_dir` directory.\"\"\"\u001b[39;49;00m\r\n",
      "    \u001b[34mprint\u001b[39;49;00m(\u001b[33m\"\u001b[39;49;00m\u001b[33mLoading model.\u001b[39;49;00m\u001b[33m\"\u001b[39;49;00m)\r\n",
      "\r\n",
      "    \u001b[37m# First, load the parameters used to create the model.\u001b[39;49;00m\r\n",
      "    model_info = {}\r\n",
      "    model_info_path = os.path.join(model_dir, \u001b[33m'\u001b[39;49;00m\u001b[33mmodel_info.pth\u001b[39;49;00m\u001b[33m'\u001b[39;49;00m)\r\n",
      "    \u001b[34mwith\u001b[39;49;00m \u001b[36mopen\u001b[39;49;00m(model_info_path, \u001b[33m'\u001b[39;49;00m\u001b[33mrb\u001b[39;49;00m\u001b[33m'\u001b[39;49;00m) \u001b[34mas\u001b[39;49;00m f:\r\n",
      "        model_info = torch.load(f)\r\n",
      "\r\n",
      "    \u001b[34mprint\u001b[39;49;00m(\u001b[33m\"\u001b[39;49;00m\u001b[33mmodel_info: {}\u001b[39;49;00m\u001b[33m\"\u001b[39;49;00m.format(model_info))\r\n",
      "\r\n",
      "    \u001b[37m# Determine the device and construct the model.\u001b[39;49;00m\r\n",
      "    device = torch.device(\u001b[33m\"\u001b[39;49;00m\u001b[33mcuda\u001b[39;49;00m\u001b[33m\"\u001b[39;49;00m \u001b[34mif\u001b[39;49;00m torch.cuda.is_available() \u001b[34melse\u001b[39;49;00m \u001b[33m\"\u001b[39;49;00m\u001b[33mcpu\u001b[39;49;00m\u001b[33m\"\u001b[39;49;00m)\r\n",
      "    model = LSTMClassifier(model_info[\u001b[33m'\u001b[39;49;00m\u001b[33membedding_dim\u001b[39;49;00m\u001b[33m'\u001b[39;49;00m], model_info[\u001b[33m'\u001b[39;49;00m\u001b[33mhidden_dim\u001b[39;49;00m\u001b[33m'\u001b[39;49;00m], model_info[\u001b[33m'\u001b[39;49;00m\u001b[33mvocab_size\u001b[39;49;00m\u001b[33m'\u001b[39;49;00m])\r\n",
      "\r\n",
      "    \u001b[37m# Load the store model parameters.\u001b[39;49;00m\r\n",
      "    model_path = os.path.join(model_dir, \u001b[33m'\u001b[39;49;00m\u001b[33mmodel.pth\u001b[39;49;00m\u001b[33m'\u001b[39;49;00m)\r\n",
      "    \u001b[34mwith\u001b[39;49;00m \u001b[36mopen\u001b[39;49;00m(model_path, \u001b[33m'\u001b[39;49;00m\u001b[33mrb\u001b[39;49;00m\u001b[33m'\u001b[39;49;00m) \u001b[34mas\u001b[39;49;00m f:\r\n",
      "        model.load_state_dict(torch.load(f))\r\n",
      "\r\n",
      "    \u001b[37m# Load the saved word_dict.\u001b[39;49;00m\r\n",
      "    word_dict_path = os.path.join(model_dir, \u001b[33m'\u001b[39;49;00m\u001b[33mword_dict.pkl\u001b[39;49;00m\u001b[33m'\u001b[39;49;00m)\r\n",
      "    \u001b[34mwith\u001b[39;49;00m \u001b[36mopen\u001b[39;49;00m(word_dict_path, \u001b[33m'\u001b[39;49;00m\u001b[33mrb\u001b[39;49;00m\u001b[33m'\u001b[39;49;00m) \u001b[34mas\u001b[39;49;00m f:\r\n",
      "        model.word_dict = pickle.load(f)\r\n",
      "\r\n",
      "    model.to(device).eval()\r\n",
      "\r\n",
      "    \u001b[34mprint\u001b[39;49;00m(\u001b[33m\"\u001b[39;49;00m\u001b[33mDone loading model.\u001b[39;49;00m\u001b[33m\"\u001b[39;49;00m)\r\n",
      "    \u001b[34mreturn\u001b[39;49;00m model\r\n",
      "\r\n",
      "\u001b[34mdef\u001b[39;49;00m \u001b[32minput_fn\u001b[39;49;00m(serialized_input_data, content_type):\r\n",
      "    \u001b[34mprint\u001b[39;49;00m(\u001b[33m'\u001b[39;49;00m\u001b[33mDeserializing the input data.\u001b[39;49;00m\u001b[33m'\u001b[39;49;00m)\r\n",
      "    \u001b[34mif\u001b[39;49;00m content_type == \u001b[33m'\u001b[39;49;00m\u001b[33mtext/plain\u001b[39;49;00m\u001b[33m'\u001b[39;49;00m:\r\n",
      "        data = serialized_input_data.decode(\u001b[33m'\u001b[39;49;00m\u001b[33mutf-8\u001b[39;49;00m\u001b[33m'\u001b[39;49;00m)\r\n",
      "        \u001b[34mreturn\u001b[39;49;00m data\r\n",
      "    \u001b[34mraise\u001b[39;49;00m \u001b[36mException\u001b[39;49;00m(\u001b[33m'\u001b[39;49;00m\u001b[33mRequested unsupported ContentType in content_type: \u001b[39;49;00m\u001b[33m'\u001b[39;49;00m + content_type)\r\n",
      "\r\n",
      "\u001b[34mdef\u001b[39;49;00m \u001b[32moutput_fn\u001b[39;49;00m(prediction_output, accept):\r\n",
      "    \u001b[34mprint\u001b[39;49;00m(\u001b[33m'\u001b[39;49;00m\u001b[33mSerializing the generated output.\u001b[39;49;00m\u001b[33m'\u001b[39;49;00m)\r\n",
      "    \u001b[34mreturn\u001b[39;49;00m \u001b[36mstr\u001b[39;49;00m(prediction_output)\r\n",
      "\r\n",
      "\u001b[34mdef\u001b[39;49;00m \u001b[32mpredict_fn\u001b[39;49;00m(input_data, model):\r\n",
      "    \u001b[34mprint\u001b[39;49;00m(\u001b[33m'\u001b[39;49;00m\u001b[33mInferring sentiment of input data.\u001b[39;49;00m\u001b[33m'\u001b[39;49;00m)\r\n",
      "\r\n",
      "    device = torch.device(\u001b[33m\"\u001b[39;49;00m\u001b[33mcuda\u001b[39;49;00m\u001b[33m\"\u001b[39;49;00m \u001b[34mif\u001b[39;49;00m torch.cuda.is_available() \u001b[34melse\u001b[39;49;00m \u001b[33m\"\u001b[39;49;00m\u001b[33mcpu\u001b[39;49;00m\u001b[33m\"\u001b[39;49;00m)\r\n",
      "    \r\n",
      "    \u001b[34mif\u001b[39;49;00m model.word_dict \u001b[35mis\u001b[39;49;00m \u001b[36mNone\u001b[39;49;00m:\r\n",
      "        \u001b[34mraise\u001b[39;49;00m \u001b[36mException\u001b[39;49;00m(\u001b[33m'\u001b[39;49;00m\u001b[33mModel has not been loaded properly, no word_dict.\u001b[39;49;00m\u001b[33m'\u001b[39;49;00m)\r\n",
      "    \r\n",
      "    \u001b[37m# TODO: Process input_data so that it is ready to be sent to our model.\u001b[39;49;00m\r\n",
      "    \u001b[37m#       You should produce two variables:\u001b[39;49;00m\r\n",
      "    \u001b[37m#         data_X   - A sequence of length 500 which represents the converted review\u001b[39;49;00m\r\n",
      "    \u001b[37m#         data_len - The length of the review\u001b[39;49;00m\r\n",
      "\r\n",
      "    data_X, data_len = convert_and_pad(model.word_dict, review_to_words(input_data))\r\n",
      "\r\n",
      "    \u001b[37m# Using data_X and data_len we construct an appropriate input tensor. Remember\u001b[39;49;00m\r\n",
      "    \u001b[37m# that our model expects input data of the form 'len, review[500]'.\u001b[39;49;00m\r\n",
      "    data_pack = np.hstack((data_len, data_X))\r\n",
      "    data_pack = data_pack.reshape(\u001b[34m1\u001b[39;49;00m, -\u001b[34m1\u001b[39;49;00m)\r\n",
      "    \r\n",
      "    data = torch.from_numpy(data_pack)\r\n",
      "    data = data.to(device)\r\n",
      "\r\n",
      "    \u001b[37m# Make sure to put the model into evaluation mode\u001b[39;49;00m\r\n",
      "    model.eval()\r\n",
      "    \u001b[34mwith\u001b[39;49;00m torch.no_grad():\r\n",
      "        output = model(data)\r\n",
      "\r\n",
      "    \u001b[37m# TODO: Compute the result of applying the model to the input data. The variable `result` should\u001b[39;49;00m\r\n",
      "    \u001b[37m#       be a numpy array which contains a single integer which is either 1 or 0\u001b[39;49;00m\r\n",
      "\r\n",
      "    result = np.round(output.numpy())\r\n",
      "\r\n",
      "    \u001b[34mreturn\u001b[39;49;00m result\r\n"
     ]
    }
   ],
   "source": [
    "!pygmentize serve/predict.py"
   ]
  },
  {
   "cell_type": "markdown",
   "metadata": {},
   "source": [
    "As mentioned earlier, the `model_fn` method is the same as the one provided in the training code and the `input_fn` and `output_fn` methods are very simple and your task will be to complete the `predict_fn` method. Make sure that you save the completed file as `predict.py` in the `serve` directory.\n",
    "\n",
    "**TODO**: Complete the `predict_fn()` method in the `serve/predict.py` file."
   ]
  },
  {
   "cell_type": "markdown",
   "metadata": {},
   "source": [
    "### Deploying the model\n",
    "\n",
    "Now that the custom inference code has been written, we will create and deploy our model. To begin with, we need to construct a new PyTorchModel object which points to the model artifacts created during training and also points to the inference code that we wish to use. Then we can call the deploy method to launch the deployment container.\n",
    "\n",
    "**NOTE**: The default behaviour for a deployed PyTorch model is to assume that any input passed to the predictor is a `numpy` array. In our case we want to send a string so we need to construct a simple wrapper around the `RealTimePredictor` class to accomodate simple strings. In a more complicated situation you may want to provide a serialization object, for example if you wanted to sent image data."
   ]
  },
  {
   "cell_type": "code",
   "execution_count": 53,
   "metadata": {},
   "outputs": [
    {
     "name": "stdout",
     "output_type": "stream",
     "text": [
      "--------------------------------------------------------------------------!"
     ]
    }
   ],
   "source": [
    "from sagemaker.predictor import RealTimePredictor\n",
    "from sagemaker.pytorch import PyTorchModel\n",
    "\n",
    "class StringPredictor(RealTimePredictor):\n",
    "    def __init__(self, endpoint_name, sagemaker_session):\n",
    "        super(StringPredictor, self).__init__(endpoint_name, sagemaker_session, content_type='text/plain')\n",
    "\n",
    "model = PyTorchModel(model_data=estimator.model_data,\n",
    "                     role = role,\n",
    "                     framework_version='0.4.0',\n",
    "                     entry_point='predict.py',\n",
    "                     source_dir='serve',\n",
    "                     predictor_cls=StringPredictor)\n",
    "predictor = model.deploy(initial_instance_count=1, instance_type='ml.m4.xlarge')"
   ]
  },
  {
   "cell_type": "markdown",
   "metadata": {},
   "source": [
    "### Testing the model\n",
    "\n",
    "Now that we have deployed our model with the custom inference code, we should test to see if everything is working. Here we test our model by loading the first `250` positive and negative reviews and send them to the endpoint, then collect the results. The reason for only sending some of the data is that the amount of time it takes for our model to process the input and then perform inference is quite long and so testing the entire data set would be prohibitive."
   ]
  },
  {
   "cell_type": "code",
   "execution_count": 57,
   "metadata": {},
   "outputs": [],
   "source": [
    "import glob\n",
    "\n",
    "def test_reviews(data_dir='../data/aclImdb', stop=250):\n",
    "    \n",
    "    results = []\n",
    "    ground = []\n",
    "    \n",
    "    # We make sure to test both positive and negative reviews    \n",
    "    for sentiment in ['pos', 'neg']:\n",
    "        \n",
    "        path = os.path.join(data_dir, 'test', sentiment, '*.txt')\n",
    "        files = glob.glob(path)\n",
    "        \n",
    "        files_read = 0\n",
    "        \n",
    "        print('Starting ', sentiment, ' files')\n",
    "        \n",
    "        # Iterate through the files and send them to the predictor\n",
    "        for f in files:\n",
    "            with open(f) as review:\n",
    "                # First, we store the ground truth (was the review positive or negative)\n",
    "                if sentiment == 'pos':\n",
    "                    ground.append(1)\n",
    "                else:\n",
    "                    ground.append(0)\n",
    "                # Read in the review and convert to 'utf-8' for transmission via HTTP\n",
    "                review_input = review.read().encode('utf-8')\n",
    "                # Send the review to the predictor and store the results\n",
    "                results.append(int(float(predictor.predict(review_input))))\n",
    "                \n",
    "            # Sending reviews to our endpoint one at a time takes a while so we\n",
    "            # only send a small number of reviews\n",
    "            files_read += 1\n",
    "            if files_read == stop:\n",
    "                break\n",
    "            \n",
    "    return ground, results"
   ]
  },
  {
   "cell_type": "code",
   "execution_count": 58,
   "metadata": {},
   "outputs": [
    {
     "name": "stdout",
     "output_type": "stream",
     "text": [
      "Starting  pos  files\n",
      "Starting  neg  files\n"
     ]
    }
   ],
   "source": [
    "ground, results = test_reviews()"
   ]
  },
  {
   "cell_type": "code",
   "execution_count": 59,
   "metadata": {},
   "outputs": [
    {
     "data": {
      "text/plain": [
       "0.682"
      ]
     },
     "execution_count": 59,
     "metadata": {},
     "output_type": "execute_result"
    }
   ],
   "source": [
    "from sklearn.metrics import accuracy_score\n",
    "accuracy_score(ground, results)"
   ]
  },
  {
   "cell_type": "markdown",
   "metadata": {},
   "source": [
    "As an additional test, we can try sending the `test_review` that we looked at earlier."
   ]
  },
  {
   "cell_type": "code",
   "execution_count": 63,
   "metadata": {},
   "outputs": [
    {
     "data": {
      "text/plain": [
       "b'1.0'"
      ]
     },
     "execution_count": 63,
     "metadata": {},
     "output_type": "execute_result"
    }
   ],
   "source": [
    "predictor.predict(test_review)"
   ]
  },
  {
   "cell_type": "markdown",
   "metadata": {},
   "source": [
    "Now that we know our endpoint is working as expected, we can set up the web page that will interact with it. If you don't have time to finish the project now, make sure to skip down to the end of this notebook and shut down your endpoint. You can deploy it again when you come back."
   ]
  },
  {
   "cell_type": "code",
   "execution_count": 64,
   "metadata": {},
   "outputs": [
    {
     "data": {
      "text/plain": [
       "'sagemaker-pytorch-2019-06-11-13-07-06-975'"
      ]
     },
     "execution_count": 64,
     "metadata": {},
     "output_type": "execute_result"
    }
   ],
   "source": [
    "predictor.endpoint"
   ]
  },
  {
   "cell_type": "markdown",
   "metadata": {},
   "source": [
    "Once you have added the endpoint name to the Lambda function, click on **Save**. Your Lambda function is now up and running. Next we need to create a way for our web app to execute the Lambda function.\n",
    "\n",
    "### Setting up API Gateway\n",
    "\n",
    "Now that our Lambda function is set up, it is time to create a new API using API Gateway that will trigger the Lambda function we have just created.\n",
    "\n",
    "Using AWS Console, navigate to **Amazon API Gateway** and then click on **Get started**.\n",
    "\n",
    "On the next page, make sure that **New API** is selected and give the new api a name, for example, `sentiment_analysis_api`. Then, click on **Create API**.\n",
    "\n",
    "Now we have created an API, however it doesn't currently do anything. What we want it to do is to trigger the Lambda function that we created earlier.\n",
    "\n",
    "Select the **Actions** dropdown menu and click **Create Method**. A new blank method will be created, select its dropdown menu and select **POST**, then click on the check mark beside it.\n",
    "\n",
    "For the integration point, make sure that **Lambda Function** is selected and click on the **Use Lambda Proxy integration**. This option makes sure that the data that is sent to the API is then sent directly to the Lambda function with no processing. It also means that the return value must be a proper response object as it will also not be processed by API Gateway.\n",
    "\n",
    "Type the name of the Lambda function you created earlier into the **Lambda Function** text entry box and then click on **Save**. Click on **OK** in the pop-up box that then appears, giving permission to API Gateway to invoke the Lambda function you created.\n",
    "\n",
    "The last step in creating the API Gateway is to select the **Actions** dropdown and click on **Deploy API**. You will need to create a new Deployment stage and name it anything you like, for example `prod`.\n",
    "\n",
    "You have now successfully set up a public API to access your SageMaker model. Make sure to copy or write down the URL provided to invoke your newly created public API as this will be needed in the next step. This URL can be found at the top of the page, highlighted in blue next to the text **Invoke URL**."
   ]
  },
  {
   "cell_type": "markdown",
   "metadata": {},
   "source": [
    "## Step 4: Deploying our web app\n",
    "\n",
    "Now that we have a publicly available API, we can start using it in a web app. For our purposes, we have provided a simple static html file which can make use of the public api you created earlier.\n",
    "\n",
    "In the `website` folder there should be a file called `index.html`. Download the file to your computer and open that file up in a text editor of your choice. There should be a line which contains **\\*\\*REPLACE WITH PUBLIC API URL\\*\\***. Replace this string with the url that you wrote down in the last step and then save the file.\n",
    "\n",
    "Now, if you open `index.html` on your local computer, your browser will behave as a local web server and you can use the provided site to interact with your SageMaker model.\n",
    "\n",
    "If you'd like to go further, you can host this html file anywhere you'd like, for example using github or hosting a static site on Amazon's S3. Once you have done this you can share the link with anyone you'd like and have them play with it too!\n",
    "\n",
    "> **Important Note** In order for the web app to communicate with the SageMaker endpoint, the endpoint has to actually be deployed and running. This means that you are paying for it. Make sure that the endpoint is running when you want to use the web app but that you shut it down when you don't need it, otherwise you will end up with a surprisingly large AWS bill.\n",
    "\n",
    "**TODO:** Make sure that you include the edited `index.html` file in your project submission."
   ]
  },
  {
   "cell_type": "markdown",
   "metadata": {},
   "source": [
    "Now that your web app is working, trying playing around with it and see how well it works.\n",
    "\n",
    "**Question**: Give an example of a review that you entered into your web app. What was the predicted sentiment of your example review?"
   ]
  },
  {
   "cell_type": "markdown",
   "metadata": {},
   "source": [
    "**Answer:** Review I enterted was \"the movie was very bad. I did not enjoy it at all\" and it came out negative"
   ]
  },
  {
   "cell_type": "markdown",
   "metadata": {},
   "source": [
    "### Delete the endpoint\n",
    "\n",
    "Remember to always shut down your endpoint if you are no longer using it. You are charged for the length of time that the endpoint is running so if you forget and leave it on you could end up with an unexpectedly large bill."
   ]
  },
  {
   "cell_type": "code",
   "execution_count": 65,
   "metadata": {},
   "outputs": [],
   "source": [
    "predictor.delete_endpoint()"
   ]
  },
  {
   "cell_type": "code",
   "execution_count": null,
   "metadata": {},
   "outputs": [],
   "source": []
  }
 ],
 "metadata": {
  "kernelspec": {
   "display_name": "Python 3",
   "language": "python",
   "name": "python3"
  },
  "language_info": {
   "codemirror_mode": {
    "name": "ipython",
    "version": 3
   },
   "file_extension": ".py",
   "mimetype": "text/x-python",
   "name": "python",
   "nbconvert_exporter": "python",
   "pygments_lexer": "ipython3",
   "version": "3.7.3"
  }
 },
 "nbformat": 4,
 "nbformat_minor": 2
}
